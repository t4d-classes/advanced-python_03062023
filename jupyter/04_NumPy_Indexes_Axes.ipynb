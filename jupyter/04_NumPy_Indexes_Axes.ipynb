{
 "cells": [
  {
   "cell_type": "code",
   "execution_count": 32,
   "id": "b240d27b-7fbb-4c00-a238-e50da748e177",
   "metadata": {
    "tags": []
   },
   "outputs": [],
   "source": [
    "import numpy as np"
   ]
  },
  {
   "cell_type": "code",
   "execution_count": 33,
   "id": "775a3f67-07d4-47c9-99d7-204df6d9eb09",
   "metadata": {
    "tags": []
   },
   "outputs": [],
   "source": [
    "nums2 = np.array([1,2])\n",
    "nums2x2 = np.array([[1,2],[3,4]])\n",
    "nums2x2x2 = np.array([[[1,2],\n",
    "                       [3,4]],[[5,6],\n",
    "                               [7,8]]])"
   ]
  },
  {
   "cell_type": "code",
   "execution_count": 48,
   "id": "9cb5541a-ed70-47e2-9f9e-4df42f8dc5aa",
   "metadata": {
    "tags": []
   },
   "outputs": [
    {
     "name": "stdout",
     "output_type": "stream",
     "text": [
      "1\n",
      "8\n",
      "3\n",
      "6\n"
     ]
    }
   ],
   "source": [
    "####### One Dimensional\n",
    "\n",
    "# [ (0), (1) ]\n",
    "\n",
    "####### Two Dimensional\n",
    "\n",
    "# [ (0, 0), (0, 1) ]\n",
    "# [ (1, 0), (1, 1) ]\n",
    "\n",
    "####### Three Dimensional\n",
    "\n",
    "# [ (0, 0, 0), (0, 0, 1) ]\n",
    "# [ (0, 1, 0), (0, 1, 1) ]\n",
    "\n",
    "#                        [ (1, 0, 0), (1, 0, 1) ]\n",
    "#                        [ (1, 1, 0), (1, 1, 1) ]\n",
    "\n",
    "\n",
    "print(nums2x2x2[0,0,0]) # 1\n",
    "print(nums2x2x2[1,1,1]) # 8\n",
    "\n",
    "print(nums2x2x2[0,1,0]) # 3\n",
    "print(nums2x2x2[1,0,1]) # 6"
   ]
  },
  {
   "cell_type": "code",
   "execution_count": 34,
   "id": "03eed06a-ea8f-444f-9d97-d962ad444f48",
   "metadata": {
    "tags": []
   },
   "outputs": [
    {
     "data": {
      "text/plain": [
       "3"
      ]
     },
     "execution_count": 34,
     "metadata": {},
     "output_type": "execute_result"
    }
   ],
   "source": [
    "# axis 0 -\n",
    "#      [1,2]\n",
    "\n",
    "np.sum(nums2, axis=0) # eliminate axis 0"
   ]
  },
  {
   "cell_type": "code",
   "execution_count": 44,
   "id": "a915aa39-0341-409f-b445-60247f84bcfe",
   "metadata": {},
   "outputs": [
    {
     "name": "stdout",
     "output_type": "stream",
     "text": [
      "[4 6]\n",
      "[3 7]\n",
      "[1 3]\n",
      "[1 2]\n"
     ]
    }
   ],
   "source": [
    "# axis   1 -\n",
    "#      0 [1,2]\n",
    "#      | [3,4]\n",
    "\n",
    "print(np.sum(nums2x2, axis=0)) # eliminate axis 0\n",
    "print(np.sum(nums2x2, axis=1)) # eliminate axis 1\n",
    "\n",
    "print(nums2x2[:, 0]) # [1 3], both values on axis 0\n",
    "\n",
    "print(nums2x2[0, :]) # [1 2], both values on axis 1"
   ]
  },
  {
   "cell_type": "code",
   "execution_count": 42,
   "id": "71d04928-29eb-4356-81a2-06fcf9b15cb5",
   "metadata": {
    "tags": []
   },
   "outputs": [
    {
     "name": "stdout",
     "output_type": "stream",
     "text": [
      "[[ 6  8]\n",
      " [10 12]]\n",
      "[[ 4  6]\n",
      " [12 14]]\n",
      "[[ 3  7]\n",
      " [11 15]]\n",
      "[1 5]\n",
      "[4 8]\n",
      "[5 7]\n",
      "[6 8]\n",
      "[1 2]\n",
      "[7 8]\n"
     ]
    }
   ],
   "source": [
    "# axis  0 2 -\n",
    "#       1 \\ \n",
    "#       |  [1,2] \n",
    "#          [3,4] \n",
    "#              [5,6]\n",
    "#              [7,8]\n",
    "\n",
    "\n",
    "print(np.sum(nums2x2x2, axis=0)) # eliminate axis 0\n",
    "print(np.sum(nums2x2x2, axis=1)) # eliminate axis 1\n",
    "print(np.sum(nums2x2x2, axis=2)) # eliminate axis 2\n",
    "\n",
    "print(nums2x2x2[:, 0, 0]) # [1 5], both values on axis 0\n",
    "print(nums2x2x2[:, 1, 1]) # [4 8], both values on axis 0\n",
    "\n",
    "print(nums2x2x2[0, :, 0]) # [1 3], both values on axis 1\n",
    "print(nums2x2x2[1, :, 1]) # [6 8], both values on axis 1\n",
    "\n",
    "print(nums2x2x2[0, 0, :]) # [1 2], both values on axis 2\n",
    "print(nums2x2x2[1, 1, :]) # [7 8], both values on axis 2\n",
    "\n"
   ]
  },
  {
   "cell_type": "code",
   "execution_count": null,
   "id": "f5425ca5-aa48-48cc-bd80-da6f617f3e14",
   "metadata": {},
   "outputs": [],
   "source": []
  },
  {
   "cell_type": "code",
   "execution_count": null,
   "id": "7c282043-a1f9-4506-9caa-e7ffba93bb57",
   "metadata": {},
   "outputs": [],
   "source": []
  }
 ],
 "metadata": {
  "kernelspec": {
   "display_name": "jupyter_03062023",
   "language": "python",
   "name": "jupyter_03062023"
  },
  "language_info": {
   "codemirror_mode": {
    "name": "ipython",
    "version": 3
   },
   "file_extension": ".py",
   "mimetype": "text/x-python",
   "name": "python",
   "nbconvert_exporter": "python",
   "pygments_lexer": "ipython3",
   "version": "3.10.0"
  }
 },
 "nbformat": 4,
 "nbformat_minor": 5
}
