{
 "cells": [
  {
   "cell_type": "code",
   "execution_count": 11,
   "id": "c06dfd7d-fc40-4bdb-bbd3-134e42319d2e",
   "metadata": {
    "tags": []
   },
   "outputs": [],
   "source": [
    "from astropy.io import fits\n",
    "import matplotlib.pyplot as plt\n",
    "import numpy as np"
   ]
  },
  {
   "cell_type": "code",
   "execution_count": 12,
   "id": "821fd07e-e81a-4243-b545-d131585a330b",
   "metadata": {
    "tags": []
   },
   "outputs": [],
   "source": [
    "fits_file_path = (\n",
    "    \"/Users/ericwgreene/git/github.com/t4d-classes\"\n",
    "    \"/advanced-python_03062023/data\"\n",
    "    \"/jw02732-o001_t001_nircam_clear-f277w_segm.fits\"\n",
    ")\n",
    "\n",
    "fits_file_path2 = \"s3://stpubdata/hst/public/j8pu/j8pu0y010/j8pu0y010_drc.fits\""
   ]
  },
  {
   "cell_type": "code",
   "execution_count": 19,
   "id": "48b09950-553a-4837-a0ec-4afd8796ca1c",
   "metadata": {
    "tags": []
   },
   "outputs": [
    {
     "name": "stdout",
     "output_type": "stream",
     "text": [
      "Filename: <class 's3fs.core.S3File'>\n",
      "No.    Name      Ver    Type      Cards   Dimensions   Format\n",
      "  0  PRIMARY       1 PrimaryHDU     838   ()      \n",
      "  1  SCI           1 ImageHDU        81   (4223, 4421)   float32   \n",
      "  2  WHT           1 ImageHDU        44   (4223, 4421)   float32   \n",
      "  3  CTX           1 ImageHDU        37   (4223, 4421)   int32   \n",
      "  4  HDRTAB        1 BinTableHDU    593   8R x 292C   [9A, 3A, K, D, D, D, D, D, D, D, D, D, D, D, D, D, K, 8A, 9A, 7A, 18A, 4A, D, D, D, D, 3A, D, D, D, D, D, D, D, D, D, D, D, D, K, 8A, 23A, D, D, D, D, K, K, K, 8A, K, 23A, 9A, 20A, K, 4A, K, K, K, K, K, K, 23A, D, D, D, D, K, K, 3A, 3A, 4A, 4A, L, D, D, D, 3A, 1A, K, D, D, D, 13A, 3A, 4A, 4A, 12A, 12A, 23A, 8A, 23A, 10A, 10A, D, D, 3A, 3A, 23A, 4A, 8A, 7A, 23A, D, K, D, 6A, 9A, 8A, D, D, L, 4A, 18A, 3A, K, 7A, 5A, 3A, D, 13A, 8A, 4A, 3A, L, K, L, K, L, K, K, D, D, D, D, D, D, 3A, 1A, D, 23A, D, D, D, 3A, 23A, L, 1A, 3A, 1A, D, 3A, 6A, K, D, D, D, D, D, D, D, D, D, D, 23A, D, D, D, D, 3A, D, D, D, 1A, K, K, K, K, K, K, 23A, K, 5A, 7A, D, D, D, D, D, D, D, D, D, D, D, D, D, D, D, D, D, 13A, D, 24A, 23A, D, 3A, 8A, D, K, D, D, 6A, 4A, D, 4A, K, D, K, 8A, D, D, D, D, D, 23A, 23A, D, 8A, D, 29A, D, 3A, D, L, D, D, 3A, 8A, 8A, 2A, D, 8A, K, 1A, 1A, 1A, 1A, D, D, D, D, D, D, 4A, D, 4A, D, 4A, K, 4A, 3A, 1A, L, K, K, 1A, D, D, D, D, K, 3A, L, L, 6A, L, D, D, 11A, D, D, 3A, 8A, 1A, D, K, D, L, 28A, L, 5A]   \n",
      "None\n"
     ]
    }
   ],
   "source": [
    "with fits.open(\n",
    "    fits_file_path2,\n",
    "    use_fsspec=True,\n",
    "    fsspec_kwargs={\"anon\": True}) as fits_file:\n",
    "    \n",
    "    print(fits_file.info())\n",
    "    \n",
    "    # for hdu in fits_file:\n",
    "    #     print(hdu)\n",
    "    \n",
    "    # hdu = fits_file[0]\n",
    "    # print(dir(hdu))\n",
    "    # print(hdu.name)\n",
    "    # print(hdu.header)\n",
    "    \n",
    "    # print(type(hdu.header))\n",
    "    # print(list(hdu.header))\n",
    "    \n",
    "    # for (key, value) in hdu.header.items():\n",
    "    #     print(f\"{key}: {value}\")\n",
    "    \n",
    "    data = fits_file[1].data\n",
    "    \n",
    "#     print(type(data))\n",
    "#     print(data.shape)\n",
    "#     print(data.dtype.name)\n",
    "#     print(data.itemsize)\n",
    "#     print(data.ndim)\n",
    "    \n",
    "#     print(np.mean(data[0:10], axis=1))\n",
    "    \n",
    "    # plt.figure()\n",
    "    # plt.imshow(data, cmap='gray')\n",
    "    # plt.colorbar()\n",
    "    # plt.show()\n",
    "    \n",
    "    \n"
   ]
  },
  {
   "cell_type": "code",
   "execution_count": 14,
   "id": "22f4c919-36fc-4457-be9b-4da1d1976200",
   "metadata": {
    "tags": []
   },
   "outputs": [],
   "source": [
    "n = np.linspace(0, 100, num=10000).reshape(100, 100)"
   ]
  },
  {
   "cell_type": "code",
   "execution_count": 15,
   "id": "a6f097e6-5fb1-4bdc-a80c-7fcfd0d869b1",
   "metadata": {
    "tags": []
   },
   "outputs": [],
   "source": [
    "hdu = fits.PrimaryHDU(n)\n",
    "hdul = fits.HDUList([hdu])\n",
    "hdul.writeto('demo.fits', overwrite=True)"
   ]
  },
  {
   "cell_type": "code",
   "execution_count": 20,
   "id": "6ae06925-66df-46d8-ad40-4882b7b17050",
   "metadata": {
    "tags": []
   },
   "outputs": [
    {
     "name": "stdout",
     "output_type": "stream",
     "text": [
      "Filename: demo.fits\n",
      "No.    Name      Ver    Type      Cards   Dimensions   Format\n",
      "  0  PRIMARY       1 PrimaryHDU       6   (100, 100)   float64   \n",
      "None\n"
     ]
    },
    {
     "data": {
      "image/png": "[encoded data removed]",
      "text/plain": [
       "<Figure size 640x480 with 1 Axes>"
      ]
     },
     "metadata": {},
     "output_type": "display_data"
    }
   ],
   "source": [
    "with fits.open('demo.fits') as fits_file:\n",
    "    print(fits_file.info())\n",
    "    \n",
    "    plt.figure()\n",
    "    plt.imshow(data)\n",
    "    plt.show()"
   ]
  },
  {
   "cell_type": "code",
   "execution_count": null,
   "id": "e725909d-0a5d-425c-8f8e-9aed1a0c46fa",
   "metadata": {},
   "outputs": [],
   "source": []
  }
 ],
 "metadata": {
  "kernelspec": {
   "display_name": "jupyter_03062023",
   "language": "python",
   "name": "jupyter_03062023"
  },
  "language_info": {
   "codemirror_mode": {
    "name": "ipython",
    "version": 3
   },
   "file_extension": ".py",
   "mimetype": "text/x-python",
   "name": "python",
   "nbconvert_exporter": "python",
   "pygments_lexer": "ipython3",
   "version": "3.10.0"
  }
 },
 "nbformat": 4,
 "nbformat_minor": 5
}
