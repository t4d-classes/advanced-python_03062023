{
 "cells": [
  {
   "cell_type": "code",
   "execution_count": 1,
   "id": "7cead5da-a62d-486d-a005-df5bbc64116c",
   "metadata": {
    "tags": []
   },
   "outputs": [],
   "source": [
    "import sys\n",
    "import numpy as np\n",
    "\n",
    "item_count = 50000000"
   ]
  },
  {
   "cell_type": "code",
   "execution_count": 3,
   "id": "0731bae9-15dd-4f8c-b115-0e84ffb0898e",
   "metadata": {
    "tags": []
   },
   "outputs": [
    {
     "name": "stdout",
     "output_type": "stream",
     "text": [
      "100000000\n",
      "411.943896\n",
      "CPU times: user 3.3 s, sys: 288 ms, total: 3.59 s\n",
      "Wall time: 3.59 s\n"
     ]
    }
   ],
   "source": [
    "%%time\n",
    "\n",
    "nums_list = [ 1 for _ in range(item_count) ]\n",
    "double_nums_list = [ x * 2 for x in nums_list ]\n",
    "double_nums_list_sum = sum(double_nums_list)\n",
    "\n",
    "print(double_nums_list_sum)\n",
    "print(sys.getsizeof(double_nums_list) / 1000000)"
   ]
  },
  {
   "cell_type": "code",
   "execution_count": 11,
   "id": "0313f2fc-09e8-4139-bbc7-c98c46deed1f",
   "metadata": {
    "tags": []
   },
   "outputs": [
    {
     "name": "stdout",
     "output_type": "stream",
     "text": [
      "100000000\n",
      "50.000112\n",
      "int8\n",
      "CPU times: user 35.1 ms, sys: 39 ms, total: 74 ms\n",
      "Wall time: 73.1 ms\n"
     ]
    }
   ],
   "source": [
    "%%time\n",
    "\n",
    "# class nparray:\n",
    "    \n",
    "#     def __mul__(self, number):\n",
    "#         # calls into the C code to do the math\n",
    "#         return call_to_c_vector_math(self, number)\n",
    "\n",
    "nums_arr = np.ones(item_count, dtype=\"int8\")\n",
    "# calculation runs inside of numpy: good\n",
    "double_nums_arr = nums_arr * 2\n",
    "\n",
    "# calculation runs in python: bad\n",
    "# double_nums_arr = [ x * 2 for x in nums_arr ]\n",
    "double_nums_arr_sum = np.sum(double_nums_arr)\n",
    "\n",
    "print(double_nums_arr_sum)\n",
    "print(sys.getsizeof(double_nums_arr) / 1000000)\n",
    "print(double_nums_arr.dtype)"
   ]
  },
  {
   "cell_type": "code",
   "execution_count": 10,
   "id": "3748f4d5-5c39-4168-90f1-e5ea9cbc486c",
   "metadata": {
    "tags": []
   },
   "outputs": [
    {
     "name": "stdout",
     "output_type": "stream",
     "text": [
      "100000000.0\n",
      "400.000112\n",
      "float64\n",
      "CPU times: user 183 ms, sys: 112 ms, total: 296 ms\n",
      "Wall time: 295 ms\n"
     ]
    }
   ],
   "source": [
    "%%time\n",
    "\n",
    "nums_arr = np.ones(item_count)\n",
    "double_nums_arr = nums_arr * 2\n",
    "double_nums_arr_sum = np.sum(double_nums_arr)\n",
    "\n",
    "print(double_nums_arr_sum)\n",
    "print(sys.getsizeof(double_nums_arr) / 1000000)\n",
    "print(double_nums_arr.dtype)"
   ]
  },
  {
   "cell_type": "code",
   "execution_count": null,
   "id": "a0b13b34-b79d-4ef4-b7cc-6286600688d8",
   "metadata": {},
   "outputs": [],
   "source": []
  }
 ],
 "metadata": {
  "kernelspec": {
   "display_name": "jupyter_03062023",
   "language": "python",
   "name": "jupyter_03062023"
  },
  "language_info": {
   "codemirror_mode": {
    "name": "ipython",
    "version": 3
   },
   "file_extension": ".py",
   "mimetype": "text/x-python",
   "name": "python",
   "nbconvert_exporter": "python",
   "pygments_lexer": "ipython3",
   "version": "3.10.0"
  }
 },
 "nbformat": 4,
 "nbformat_minor": 5
}
