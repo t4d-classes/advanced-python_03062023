{
 "cells": [
  {
   "cell_type": "code",
   "execution_count": null,
   "id": "7cead5da-a62d-486d-a005-df5bbc64116c",
   "metadata": {},
   "outputs": [],
   "source": [
    "import sys\n",
    "import numpy as np\n",
    "\n",
    "item_count = 50000000"
   ]
  }
 ],
 "metadata": {
  "kernelspec": {
   "display_name": "jupyter_03062023",
   "language": "python",
   "name": "jupyter_03062023"
  },
  "language_info": {
   "codemirror_mode": {
    "name": "ipython",
    "version": 3
   },
   "file_extension": ".py",
   "mimetype": "text/x-python",
   "name": "python",
   "nbconvert_exporter": "python",
   "pygments_lexer": "ipython3",
   "version": "3.10.0"
  }
 },
 "nbformat": 4,
 "nbformat_minor": 5
}
