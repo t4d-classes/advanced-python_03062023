{
 "cells": [
  {
   "cell_type": "code",
   "execution_count": 9,
   "id": "29fb0f47-5f5d-48b0-832c-633e07d9c968",
   "metadata": {
    "tags": []
   },
   "outputs": [],
   "source": [
    "from matplotlib import pyplot as plt\n",
    "import numpy as np\n",
    "import sys\n",
    "\n",
    "%matplotlib inline"
   ]
  },
  {
   "cell_type": "code",
   "execution_count": 3,
   "id": "ca6cb3b4-9324-4a13-9062-2b1b1cd9a23d",
   "metadata": {
    "tags": []
   },
   "outputs": [
    {
     "name": "stdout",
     "output_type": "stream",
     "text": [
      "[1, 2, 3, 4, 5]\n",
      "[1 2 3 4 5]\n",
      "<class 'list'>\n",
      "<class 'numpy.ndarray'>\n"
     ]
    }
   ],
   "source": [
    "nums = [1,2,3,4,5]\n",
    "\n",
    "nums_arr = np.array(nums)\n",
    "\n",
    "print(nums)\n",
    "print(nums_arr)\n",
    "\n",
    "print(type(nums))\n",
    "print(type(nums_arr))"
   ]
  },
  {
   "cell_type": "code",
   "execution_count": 10,
   "id": "a3368119-d699-4f9e-ac44-3ff239b2d400",
   "metadata": {
    "tags": []
   },
   "outputs": [
    {
     "name": "stdout",
     "output_type": "stream",
     "text": [
      "int64\n",
      "5\n",
      "8\n",
      "40\n",
      "40\n",
      "152\n"
     ]
    }
   ],
   "source": [
    "print(nums_arr.dtype)\n",
    "print(nums_arr.size)\n",
    "print(nums_arr.itemsize)\n",
    "print(nums_arr.itemsize * nums_arr.size)\n",
    "print(nums_arr.nbytes)\n",
    "print(sys.getsizeof(nums_arr))"
   ]
  },
  {
   "cell_type": "code",
   "execution_count": 11,
   "id": "8410b7ec-855b-42bc-8e74-cf7f7ba05c81",
   "metadata": {
    "tags": []
   },
   "outputs": [
    {
     "name": "stdout",
     "output_type": "stream",
     "text": [
      "[1.0, 2.0, 3.0, 4.0, 5.0]\n",
      "[1. 2. 3. 4. 5.]\n",
      "<class 'list'>\n",
      "<class 'numpy.ndarray'>\n",
      "float64\n",
      "5\n",
      "8\n",
      "40\n",
      "40\n",
      "152\n"
     ]
    }
   ],
   "source": [
    "nums = [1.,2.,3.,4.,5.]\n",
    "\n",
    "nums_arr = np.array(nums)\n",
    "\n",
    "print(nums)\n",
    "print(nums_arr)\n",
    "\n",
    "print(type(nums))\n",
    "print(type(nums_arr))\n",
    "print(nums_arr.dtype)\n",
    "print(nums_arr.size)\n",
    "print(nums_arr.itemsize)\n",
    "print(nums_arr.itemsize * nums_arr.size)\n",
    "print(nums_arr.nbytes)\n",
    "print(sys.getsizeof(nums_arr))"
   ]
  },
  {
   "cell_type": "code",
   "execution_count": 12,
   "id": "bce64ac7-c90c-4112-88cf-b279d74293e8",
   "metadata": {
    "tags": []
   },
   "outputs": [
    {
     "name": "stdout",
     "output_type": "stream",
     "text": [
      "[0, 1, 2, 3, 4, 5, 6, 7, 8, 9]\n"
     ]
    }
   ],
   "source": [
    "nums_list = list(range(10))\n",
    "print(nums_list)"
   ]
  },
  {
   "cell_type": "code",
   "execution_count": 13,
   "id": "19f30b10-c454-4593-9cb3-ae4cc2ab3354",
   "metadata": {
    "tags": []
   },
   "outputs": [
    {
     "name": "stdout",
     "output_type": "stream",
     "text": [
      "int64\n",
      "[0 1 2 3 4 5 6 7 8 9]\n"
     ]
    }
   ],
   "source": [
    "nums_arr = np.arange(10)\n",
    "\n",
    "print(nums_arr.dtype)\n",
    "print(nums_arr)"
   ]
  },
  {
   "cell_type": "code",
   "execution_count": 14,
   "id": "513e46a4-4aea-4af2-8c29-ea7b6432d690",
   "metadata": {
    "tags": []
   },
   "outputs": [
    {
     "name": "stdout",
     "output_type": "stream",
     "text": [
      "int64\n",
      "[10 11 12 13 14 15 16 17 18 19]\n"
     ]
    }
   ],
   "source": [
    "nums_arr = np.arange(10, 20)\n",
    "\n",
    "print(nums_arr.dtype)\n",
    "print(nums_arr)"
   ]
  },
  {
   "cell_type": "code",
   "execution_count": 15,
   "id": "aee1f0d0-9f0e-4f8e-91c9-351fbd8af6c3",
   "metadata": {
    "tags": []
   },
   "outputs": [
    {
     "name": "stdout",
     "output_type": "stream",
     "text": [
      "int64\n",
      "[10 12 14 16 18]\n"
     ]
    }
   ],
   "source": [
    "nums_arr = np.arange(10, 20, step=2)\n",
    "\n",
    "print(nums_arr.dtype)\n",
    "print(nums_arr)"
   ]
  },
  {
   "cell_type": "code",
   "execution_count": 16,
   "id": "ae0ff8de-90df-4b52-b63c-f20a742f6819",
   "metadata": {
    "tags": []
   },
   "outputs": [
    {
     "name": "stdout",
     "output_type": "stream",
     "text": [
      "int8\n",
      "[ 0 10 20 30 40 50 60 70 80 90]\n"
     ]
    }
   ],
   "source": [
    "nums_arr = np.arange(0, 100, step=10, dtype=\"int8\")\n",
    "\n",
    "print(nums_arr.dtype)\n",
    "print(nums_arr)"
   ]
  },
  {
   "cell_type": "code",
   "execution_count": null,
   "id": "9fd93e87-60af-427f-aeb9-88c0c6a5e853",
   "metadata": {},
   "outputs": [],
   "source": [
    "nums_arr = np.arange(0, 100, step=10, dtype=np.int8)\n",
    "\n",
    "print(nums_arr.dtype)\n",
    "print(nums_arr)"
   ]
  }
 ],
 "metadata": {
  "kernelspec": {
   "display_name": "jupyter_03062023",
   "language": "python",
   "name": "jupyter_03062023"
  },
  "language_info": {
   "codemirror_mode": {
    "name": "ipython",
    "version": 3
   },
   "file_extension": ".py",
   "mimetype": "text/x-python",
   "name": "python",
   "nbconvert_exporter": "python",
   "pygments_lexer": "ipython3",
   "version": "3.10.0"
  }
 },
 "nbformat": 4,
 "nbformat_minor": 5
}
