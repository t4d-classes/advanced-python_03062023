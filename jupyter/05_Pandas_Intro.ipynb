{
 "cells": [
  {
   "cell_type": "code",
   "execution_count": 1,
   "id": "d18aecdb-c033-43ba-b0bc-60a6af4308fb",
   "metadata": {
    "tags": []
   },
   "outputs": [],
   "source": [
    "import pandas as pd\n",
    "import numpy as np\n"
   ]
  },
  {
   "cell_type": "code",
   "execution_count": 2,
   "id": "ed089a9a-d479-4371-9883-c34f0934716f",
   "metadata": {
    "tags": []
   },
   "outputs": [
    {
     "data": {
      "text/plain": [
       "{'Alexandria': 80847,\n",
       " 'Amherst': 44757,\n",
       " 'Arlington': 94880,\n",
       " 'Augusta': 50612,\n",
       " 'Bedford': 54110,\n",
       " 'Botetourt': 64724,\n",
       " 'Fairfax': 105416,\n",
       " 'Falls Church': 114409,\n",
       " 'Prince William': 91098}"
      ]
     },
     "execution_count": 2,
     "metadata": {},
     "output_type": "execute_result"
    }
   ],
   "source": [
    "median_income_dict = {\n",
    "    \"Alexandria\": 80847,\n",
    "    \"Amherst\": 44757,\n",
    "    \"Arlington\": 94880,\n",
    "    \"Augusta\": 50612,\n",
    "    \"Bedford\": 54110,\n",
    "    \"Botetourt\": 64724,\n",
    "    \"Fairfax\": 105416,\n",
    "    \"Falls Church\": 114409,\n",
    "    \"Prince William\": 91098,\n",
    "}\n",
    "\n",
    "median_income_dict"
   ]
  },
  {
   "cell_type": "code",
   "execution_count": 3,
   "id": "541362bc-b3d3-40ed-8dfc-fb55aeab89fb",
   "metadata": {
    "tags": []
   },
   "outputs": [
    {
     "data": {
      "text/plain": [
       "44757"
      ]
     },
     "execution_count": 3,
     "metadata": {},
     "output_type": "execute_result"
    }
   ],
   "source": [
    "median_income_dict['Amherst']"
   ]
  },
  {
   "cell_type": "code",
   "execution_count": 4,
   "id": "35abfca0-f9ff-4232-aef5-3c8dcf318348",
   "metadata": {
    "tags": []
   },
   "outputs": [
    {
     "data": {
      "text/plain": [
       "Alexandria         80847\n",
       "Amherst            44757\n",
       "Arlington          94880\n",
       "Augusta            50612\n",
       "Bedford            54110\n",
       "Botetourt          64724\n",
       "Fairfax           105416\n",
       "Falls Church      114409\n",
       "Prince William     91098\n",
       "dtype: int32"
      ]
     },
     "execution_count": 4,
     "metadata": {},
     "output_type": "execute_result"
    }
   ],
   "source": [
    "median_income_series = pd.Series(median_income_dict, dtype=np.int32)\n",
    "\n",
    "median_income_series"
   ]
  },
  {
   "cell_type": "code",
   "execution_count": 5,
   "id": "cbcb2880-8e12-453c-853c-4a3bc7c26caf",
   "metadata": {
    "tags": []
   },
   "outputs": [
    {
     "data": {
      "text/plain": [
       "Alexandria    80847\n",
       "Amherst       44757\n",
       "Arlington     94880\n",
       "Augusta       50612\n",
       "Bedford       54110\n",
       "dtype: int32"
      ]
     },
     "execution_count": 5,
     "metadata": {},
     "output_type": "execute_result"
    }
   ],
   "source": [
    "median_income_series.head()"
   ]
  },
  {
   "cell_type": "code",
   "execution_count": 6,
   "id": "491ea624-5bb4-43ff-8d82-1484a4d248cf",
   "metadata": {
    "tags": []
   },
   "outputs": [
    {
     "data": {
      "text/plain": [
       "Alexandria    80847\n",
       "Amherst       44757\n",
       "Arlington     94880\n",
       "dtype: int32"
      ]
     },
     "execution_count": 6,
     "metadata": {},
     "output_type": "execute_result"
    }
   ],
   "source": [
    "median_income_series.head(3)"
   ]
  },
  {
   "cell_type": "code",
   "execution_count": 7,
   "id": "a5572e6d-da91-4f54-851d-91882591c58b",
   "metadata": {
    "tags": []
   },
   "outputs": [
    {
     "data": {
      "text/plain": [
       "Bedford            54110\n",
       "Botetourt          64724\n",
       "Fairfax           105416\n",
       "Falls Church      114409\n",
       "Prince William     91098\n",
       "dtype: int32"
      ]
     },
     "execution_count": 7,
     "metadata": {},
     "output_type": "execute_result"
    }
   ],
   "source": [
    "median_income_series.tail()"
   ]
  },
  {
   "cell_type": "code",
   "execution_count": 8,
   "id": "ddb1f567-897a-4d9c-96bf-3498cfa627ca",
   "metadata": {
    "tags": []
   },
   "outputs": [
    {
     "data": {
      "text/plain": [
       "Fairfax           105416\n",
       "Falls Church      114409\n",
       "Prince William     91098\n",
       "dtype: int32"
      ]
     },
     "execution_count": 8,
     "metadata": {},
     "output_type": "execute_result"
    }
   ],
   "source": [
    "median_income_series.tail(3)"
   ]
  },
  {
   "cell_type": "code",
   "execution_count": 10,
   "id": "c00e3e3a-3dcb-40b5-9c79-0291049cdfb2",
   "metadata": {
    "tags": []
   },
   "outputs": [
    {
     "data": {
      "text/plain": [
       "Index(['Alexandria', 'Amherst', 'Arlington', 'Augusta', 'Bedford', 'Botetourt',\n",
       "       'Fairfax', 'Falls Church', 'Prince William'],\n",
       "      dtype='object')"
      ]
     },
     "execution_count": 10,
     "metadata": {},
     "output_type": "execute_result"
    }
   ],
   "source": [
    "median_income_series.index"
   ]
  },
  {
   "cell_type": "code",
   "execution_count": 11,
   "id": "7fb6c865-09be-47b3-9b18-20e293056f7d",
   "metadata": {
    "tags": []
   },
   "outputs": [
    {
     "data": {
      "text/plain": [
       "array([ 80847,  44757,  94880,  50612,  54110,  64724, 105416, 114409,\n",
       "        91098], dtype=int32)"
      ]
     },
     "execution_count": 11,
     "metadata": {},
     "output_type": "execute_result"
    }
   ],
   "source": [
    "median_income_series.values"
   ]
  },
  {
   "cell_type": "code",
   "execution_count": 13,
   "id": "17b19aa9-90c3-4097-8d5c-560b7fa0a3a2",
   "metadata": {
    "tags": []
   },
   "outputs": [
    {
     "name": "stdout",
     "output_type": "stream",
     "text": [
      "int32\n",
      "<class 'numpy.ndarray'>\n"
     ]
    }
   ],
   "source": [
    "income_values = median_income_series.values\n",
    "print(income_values.dtype)\n",
    "print(type(income_values))"
   ]
  },
  {
   "cell_type": "code",
   "execution_count": 18,
   "id": "5cce0e21-954d-4df5-85d6-ea42ab77e7dd",
   "metadata": {
    "tags": []
   },
   "outputs": [
    {
     "data": {
      "text/plain": [
       "numpy.int32"
      ]
     },
     "execution_count": 18,
     "metadata": {},
     "output_type": "execute_result"
    }
   ],
   "source": [
    "type(median_income_series[\"Amherst\"])"
   ]
  },
  {
   "cell_type": "code",
   "execution_count": 19,
   "id": "1211b2b2-9830-4b6c-a00e-106d88fa1c28",
   "metadata": {
    "tags": []
   },
   "outputs": [
    {
     "data": {
      "text/plain": [
       "pandas.core.series.Series"
      ]
     },
     "execution_count": 19,
     "metadata": {},
     "output_type": "execute_result"
    }
   ],
   "source": [
    "type(median_income_series[ [\"Amherst\", \"Arlington\"] ])"
   ]
  },
  {
   "cell_type": "code",
   "execution_count": 25,
   "id": "0940983e-f295-43d6-972f-1ca20088cbe8",
   "metadata": {
    "tags": []
   },
   "outputs": [
    {
     "data": {
      "text/plain": [
       "Amherst      44757\n",
       "Arlington    94880\n",
       "Augusta      50612\n",
       "Bedford      54110\n",
       "dtype: int32"
      ]
     },
     "execution_count": 25,
     "metadata": {},
     "output_type": "execute_result"
    }
   ],
   "source": [
    "median_income_series[\"Amherst\":\"Bedford\"]"
   ]
  },
  {
   "cell_type": "code",
   "execution_count": 26,
   "id": "7d5e072d-8a9b-4c6c-9172-d64dc99baed5",
   "metadata": {
    "tags": []
   },
   "outputs": [
    {
     "data": {
      "text/plain": [
       "44757"
      ]
     },
     "execution_count": 26,
     "metadata": {},
     "output_type": "execute_result"
    }
   ],
   "source": [
    "median_income_series[1]"
   ]
  },
  {
   "cell_type": "code",
   "execution_count": 27,
   "id": "959cd399-7cd4-42ef-af5d-de36816dbdfc",
   "metadata": {
    "tags": []
   },
   "outputs": [
    {
     "data": {
      "text/plain": [
       "Amherst      44757\n",
       "Arlington    94880\n",
       "dtype: int32"
      ]
     },
     "execution_count": 27,
     "metadata": {},
     "output_type": "execute_result"
    }
   ],
   "source": [
    "median_income_series[1:3]"
   ]
  },
  {
   "cell_type": "code",
   "execution_count": 28,
   "id": "a7a6e71a-eeef-4b44-97bd-3d4023f17c85",
   "metadata": {
    "tags": []
   },
   "outputs": [
    {
     "data": {
      "text/plain": [
       "Amherst    44757\n",
       "Bedford    54110\n",
       "dtype: int32"
      ]
     },
     "execution_count": 28,
     "metadata": {},
     "output_type": "execute_result"
    }
   ],
   "source": [
    "median_income_series[ [1, 4]]"
   ]
  },
  {
   "cell_type": "code",
   "execution_count": 32,
   "id": "6e78d0a7-d9c0-4fcb-a3a3-47adc6039a70",
   "metadata": {
    "tags": []
   },
   "outputs": [
    {
     "data": {
      "text/plain": [
       "44757"
      ]
     },
     "execution_count": 32,
     "metadata": {},
     "output_type": "execute_result"
    }
   ],
   "source": [
    "median_income_series.iloc[1]"
   ]
  },
  {
   "cell_type": "code",
   "execution_count": 34,
   "id": "ba7cb058-9015-4a72-bf6b-35c4864e449f",
   "metadata": {},
   "outputs": [
    {
     "data": {
      "text/plain": [
       "44757"
      ]
     },
     "execution_count": 34,
     "metadata": {},
     "output_type": "execute_result"
    }
   ],
   "source": [
    "median_income_series.loc['Amherst']"
   ]
  },
  {
   "cell_type": "code",
   "execution_count": 35,
   "id": "bd867af8-b019-40dd-b1ea-7ff647464315",
   "metadata": {
    "tags": []
   },
   "outputs": [
    {
     "data": {
      "text/plain": [
       "(9,)"
      ]
     },
     "execution_count": 35,
     "metadata": {},
     "output_type": "execute_result"
    }
   ],
   "source": [
    "median_income_series.shape"
   ]
  },
  {
   "cell_type": "code",
   "execution_count": 36,
   "id": "5b07bd91-e976-4b4f-9ef2-f0944480fca4",
   "metadata": {
    "tags": []
   },
   "outputs": [
    {
     "data": {
      "text/plain": [
       "Alexandria         68082\n",
       "Amherst            12560\n",
       "Arlington          98050\n",
       "Augusta            28516\n",
       "Bedford            27465\n",
       "Botetourt          13126\n",
       "Fairfax           391627\n",
       "Falls Church        5101\n",
       "Prince William    130785\n",
       "dtype: int64"
      ]
     },
     "execution_count": 36,
     "metadata": {},
     "output_type": "execute_result"
    }
   ],
   "source": [
    "households_dict = {\n",
    "    \"Alexandria\": 68082,\n",
    "    \"Amherst\": 12560,\n",
    "    \"Arlington\": 98050,\n",
    "    \"Augusta\": 28516,\n",
    "    \"Bedford\": 27465,\n",
    "    \"Botetourt\": 13126,\n",
    "    \"Fairfax\": 391627,\n",
    "    \"Falls Church\":\t5101,\n",
    "    \"Prince William\": 130785,\n",
    "}\n",
    "\n",
    "households_series = pd.Series(households_dict)\n",
    "\n",
    "households_series"
   ]
  },
  {
   "cell_type": "code",
   "execution_count": 37,
   "id": "993fbc89-d548-4c8a-b202-c6d23bdf7695",
   "metadata": {
    "tags": []
   },
   "outputs": [
    {
     "data": {
      "text/html": [
       "<div>\n",
       "<style scoped>\n",
       "    .dataframe tbody tr th:only-of-type {\n",
       "        vertical-align: middle;\n",
       "    }\n",
       "\n",
       "    .dataframe tbody tr th {\n",
       "        vertical-align: top;\n",
       "    }\n",
       "\n",
       "    .dataframe thead th {\n",
       "        text-align: right;\n",
       "    }\n",
       "</style>\n",
       "<table border=\"1\" class=\"dataframe\">\n",
       "  <thead>\n",
       "    <tr style=\"text-align: right;\">\n",
       "      <th></th>\n",
       "      <th>median_income</th>\n",
       "      <th>households</th>\n",
       "    </tr>\n",
       "  </thead>\n",
       "  <tbody>\n",
       "    <tr>\n",
       "      <th>Alexandria</th>\n",
       "      <td>80847</td>\n",
       "      <td>68082</td>\n",
       "    </tr>\n",
       "    <tr>\n",
       "      <th>Amherst</th>\n",
       "      <td>44757</td>\n",
       "      <td>12560</td>\n",
       "    </tr>\n",
       "    <tr>\n",
       "      <th>Arlington</th>\n",
       "      <td>94880</td>\n",
       "      <td>98050</td>\n",
       "    </tr>\n",
       "    <tr>\n",
       "      <th>Augusta</th>\n",
       "      <td>50612</td>\n",
       "      <td>28516</td>\n",
       "    </tr>\n",
       "    <tr>\n",
       "      <th>Bedford</th>\n",
       "      <td>54110</td>\n",
       "      <td>27465</td>\n",
       "    </tr>\n",
       "    <tr>\n",
       "      <th>Botetourt</th>\n",
       "      <td>64724</td>\n",
       "      <td>13126</td>\n",
       "    </tr>\n",
       "    <tr>\n",
       "      <th>Fairfax</th>\n",
       "      <td>105416</td>\n",
       "      <td>391627</td>\n",
       "    </tr>\n",
       "    <tr>\n",
       "      <th>Falls Church</th>\n",
       "      <td>114409</td>\n",
       "      <td>5101</td>\n",
       "    </tr>\n",
       "    <tr>\n",
       "      <th>Prince William</th>\n",
       "      <td>91098</td>\n",
       "      <td>130785</td>\n",
       "    </tr>\n",
       "  </tbody>\n",
       "</table>\n",
       "</div>"
      ],
      "text/plain": [
       "                median_income  households\n",
       "Alexandria              80847       68082\n",
       "Amherst                 44757       12560\n",
       "Arlington               94880       98050\n",
       "Augusta                 50612       28516\n",
       "Bedford                 54110       27465\n",
       "Botetourt               64724       13126\n",
       "Fairfax                105416      391627\n",
       "Falls Church           114409        5101\n",
       "Prince William          91098      130785"
      ]
     },
     "execution_count": 37,
     "metadata": {},
     "output_type": "execute_result"
    }
   ],
   "source": [
    "counties = pd.DataFrame({\n",
    "    \"median_income\": median_income_series,\n",
    "    \"households\": households_series\n",
    "})\n",
    "\n",
    "counties"
   ]
  },
  {
   "cell_type": "code",
   "execution_count": 38,
   "id": "84745191-ab57-4620-82c9-9caade4168d1",
   "metadata": {
    "tags": []
   },
   "outputs": [
    {
     "data": {
      "text/plain": [
       "Index(['median_income', 'households'], dtype='object')"
      ]
     },
     "execution_count": 38,
     "metadata": {},
     "output_type": "execute_result"
    }
   ],
   "source": [
    "counties.columns"
   ]
  },
  {
   "cell_type": "code",
   "execution_count": 39,
   "id": "c181409f-9b39-4a4a-a624-63b0c9ada95f",
   "metadata": {
    "tags": []
   },
   "outputs": [
    {
     "data": {
      "text/plain": [
       "Index(['Alexandria', 'Amherst', 'Arlington', 'Augusta', 'Bedford', 'Botetourt',\n",
       "       'Fairfax', 'Falls Church', 'Prince William'],\n",
       "      dtype='object')"
      ]
     },
     "execution_count": 39,
     "metadata": {},
     "output_type": "execute_result"
    }
   ],
   "source": [
    "counties.index"
   ]
  },
  {
   "cell_type": "code",
   "execution_count": 42,
   "id": "ddbf356c-edae-4d97-8b18-cacb4b6b7c87",
   "metadata": {
    "tags": []
   },
   "outputs": [
    {
     "data": {
      "text/plain": [
       "array([[ 80847,  68082],\n",
       "       [ 44757,  12560],\n",
       "       [ 94880,  98050],\n",
       "       [ 50612,  28516],\n",
       "       [ 54110,  27465],\n",
       "       [ 64724,  13126],\n",
       "       [105416, 391627],\n",
       "       [114409,   5101],\n",
       "       [ 91098, 130785]])"
      ]
     },
     "execution_count": 42,
     "metadata": {},
     "output_type": "execute_result"
    }
   ],
   "source": [
    "counties.values"
   ]
  },
  {
   "cell_type": "code",
   "execution_count": 48,
   "id": "1284a26f-9c50-4788-9761-c85892db1485",
   "metadata": {
    "tags": []
   },
   "outputs": [
    {
     "data": {
      "text/plain": [
       "(9, 2)"
      ]
     },
     "execution_count": 48,
     "metadata": {},
     "output_type": "execute_result"
    }
   ],
   "source": [
    "counties.values.shape"
   ]
  },
  {
   "cell_type": "code",
   "execution_count": 49,
   "id": "4e0863b6-9894-4985-97c3-52f8536847b5",
   "metadata": {
    "tags": []
   },
   "outputs": [],
   "source": [
    "a = counties.values\n",
    "b = counties.values"
   ]
  },
  {
   "cell_type": "code",
   "execution_count": 50,
   "id": "709a1756-0483-4489-95eb-2fa85b798362",
   "metadata": {
    "tags": []
   },
   "outputs": [
    {
     "data": {
      "text/plain": [
       "(9, 2)"
      ]
     },
     "execution_count": 50,
     "metadata": {},
     "output_type": "execute_result"
    }
   ],
   "source": [
    "a.shape"
   ]
  },
  {
   "cell_type": "code",
   "execution_count": 51,
   "id": "a2eab8c5-470f-42ae-8c7c-7b94e6182c90",
   "metadata": {
    "tags": []
   },
   "outputs": [
    {
     "data": {
      "text/plain": [
       "(9, 2)"
      ]
     },
     "execution_count": 51,
     "metadata": {},
     "output_type": "execute_result"
    }
   ],
   "source": [
    "b.shape"
   ]
  },
  {
   "cell_type": "code",
   "execution_count": 52,
   "id": "16ce0850-b7fc-451c-b6b3-abbcebe5c924",
   "metadata": {
    "tags": []
   },
   "outputs": [
    {
     "data": {
      "text/plain": [
       "140436999064240"
      ]
     },
     "execution_count": 52,
     "metadata": {},
     "output_type": "execute_result"
    }
   ],
   "source": [
    "id(a)"
   ]
  },
  {
   "cell_type": "code",
   "execution_count": 53,
   "id": "e48f5a81-3198-4aa4-aa5d-b77163f9b46d",
   "metadata": {
    "tags": []
   },
   "outputs": [
    {
     "data": {
      "text/plain": [
       "140436999064816"
      ]
     },
     "execution_count": 53,
     "metadata": {},
     "output_type": "execute_result"
    }
   ],
   "source": [
    "id(b)"
   ]
  },
  {
   "cell_type": "code",
   "execution_count": 55,
   "id": "74ed8bb6-faa5-4454-9a0e-7845d68d6717",
   "metadata": {
    "tags": []
   },
   "outputs": [
    {
     "data": {
      "text/plain": [
       "999"
      ]
     },
     "execution_count": 55,
     "metadata": {},
     "output_type": "execute_result"
    }
   ],
   "source": [
    "a[0,0] = 999\n",
    "a[0,0]"
   ]
  },
  {
   "cell_type": "code",
   "execution_count": 56,
   "id": "a4b7ab92-6392-4c78-b2ea-653ab420fa8d",
   "metadata": {
    "tags": []
   },
   "outputs": [
    {
     "data": {
      "text/plain": [
       "80847"
      ]
     },
     "execution_count": 56,
     "metadata": {},
     "output_type": "execute_result"
    }
   ],
   "source": [
    "b[0,0]"
   ]
  },
  {
   "cell_type": "code",
   "execution_count": 58,
   "id": "85a26570-cc14-4272-aa81-540208daec6f",
   "metadata": {
    "tags": []
   },
   "outputs": [
    {
     "data": {
      "text/html": [
       "<div>\n",
       "<style scoped>\n",
       "    .dataframe tbody tr th:only-of-type {\n",
       "        vertical-align: middle;\n",
       "    }\n",
       "\n",
       "    .dataframe tbody tr th {\n",
       "        vertical-align: top;\n",
       "    }\n",
       "\n",
       "    .dataframe thead th {\n",
       "        text-align: right;\n",
       "    }\n",
       "</style>\n",
       "<table border=\"1\" class=\"dataframe\">\n",
       "  <thead>\n",
       "    <tr style=\"text-align: right;\">\n",
       "      <th></th>\n",
       "      <th>Median Income</th>\n",
       "      <th>Households</th>\n",
       "    </tr>\n",
       "  </thead>\n",
       "  <tbody>\n",
       "    <tr>\n",
       "      <th>Alexandria</th>\n",
       "      <td>80847</td>\n",
       "      <td>68082</td>\n",
       "    </tr>\n",
       "    <tr>\n",
       "      <th>Amherst</th>\n",
       "      <td>44757</td>\n",
       "      <td>12560</td>\n",
       "    </tr>\n",
       "    <tr>\n",
       "      <th>Arlington</th>\n",
       "      <td>94880</td>\n",
       "      <td>98050</td>\n",
       "    </tr>\n",
       "    <tr>\n",
       "      <th>Augusta</th>\n",
       "      <td>50612</td>\n",
       "      <td>28516</td>\n",
       "    </tr>\n",
       "    <tr>\n",
       "      <th>Bedford</th>\n",
       "      <td>54110</td>\n",
       "      <td>27465</td>\n",
       "    </tr>\n",
       "    <tr>\n",
       "      <th>Botetourt</th>\n",
       "      <td>64724</td>\n",
       "      <td>13126</td>\n",
       "    </tr>\n",
       "    <tr>\n",
       "      <th>Fairfax</th>\n",
       "      <td>105416</td>\n",
       "      <td>391627</td>\n",
       "    </tr>\n",
       "    <tr>\n",
       "      <th>Falls Church</th>\n",
       "      <td>114409</td>\n",
       "      <td>5101</td>\n",
       "    </tr>\n",
       "    <tr>\n",
       "      <th>Prince William</th>\n",
       "      <td>91098</td>\n",
       "      <td>130785</td>\n",
       "    </tr>\n",
       "  </tbody>\n",
       "</table>\n",
       "</div>"
      ],
      "text/plain": [
       "                Median Income  Households\n",
       "Alexandria              80847       68082\n",
       "Amherst                 44757       12560\n",
       "Arlington               94880       98050\n",
       "Augusta                 50612       28516\n",
       "Bedford                 54110       27465\n",
       "Botetourt               64724       13126\n",
       "Fairfax                105416      391627\n",
       "Falls Church           114409        5101\n",
       "Prince William          91098      130785"
      ]
     },
     "execution_count": 58,
     "metadata": {},
     "output_type": "execute_result"
    }
   ],
   "source": [
    "counties.columns = [\"Median Income\", \"Households\"]\n",
    "\n",
    "counties"
   ]
  },
  {
   "cell_type": "code",
   "execution_count": 59,
   "id": "580d14ca-d0ed-4998-aeef-d61a35697127",
   "metadata": {
    "tags": []
   },
   "outputs": [
    {
     "data": {
      "text/plain": [
       "Median Income  Alexandria         80847\n",
       "               Amherst            44757\n",
       "               Arlington          94880\n",
       "               Augusta            50612\n",
       "               Bedford            54110\n",
       "               Botetourt          64724\n",
       "               Fairfax           105416\n",
       "               Falls Church      114409\n",
       "               Prince William     91098\n",
       "Households     Alexandria         68082\n",
       "               Amherst            12560\n",
       "               Arlington          98050\n",
       "               Augusta            28516\n",
       "               Bedford            27465\n",
       "               Botetourt          13126\n",
       "               Fairfax           391627\n",
       "               Falls Church        5101\n",
       "               Prince William    130785\n",
       "dtype: int64"
      ]
     },
     "execution_count": 59,
     "metadata": {},
     "output_type": "execute_result"
    }
   ],
   "source": [
    "counties2 = counties.unstack()\n",
    "\n",
    "counties2"
   ]
  },
  {
   "cell_type": "code",
   "execution_count": 61,
   "id": "f2d0ea30-1cb4-4014-840c-c365905b3b2a",
   "metadata": {
    "tags": []
   },
   "outputs": [
    {
     "data": {
      "text/plain": [
       "pandas.core.series.Series"
      ]
     },
     "execution_count": 61,
     "metadata": {},
     "output_type": "execute_result"
    }
   ],
   "source": [
    "counties2.index\n",
    "\n",
    "type(counties2)"
   ]
  },
  {
   "cell_type": "code",
   "execution_count": 67,
   "id": "98f850e1-1865-4ea4-84a6-56505762ae6d",
   "metadata": {
    "tags": []
   },
   "outputs": [
    {
     "data": {
      "text/html": [
       "<div>\n",
       "<style scoped>\n",
       "    .dataframe tbody tr th:only-of-type {\n",
       "        vertical-align: middle;\n",
       "    }\n",
       "\n",
       "    .dataframe tbody tr th {\n",
       "        vertical-align: top;\n",
       "    }\n",
       "\n",
       "    .dataframe thead th {\n",
       "        text-align: right;\n",
       "    }\n",
       "</style>\n",
       "<table border=\"1\" class=\"dataframe\">\n",
       "  <thead>\n",
       "    <tr style=\"text-align: right;\">\n",
       "      <th></th>\n",
       "      <th>Alexandria</th>\n",
       "      <th>Amherst</th>\n",
       "      <th>Arlington</th>\n",
       "      <th>Augusta</th>\n",
       "      <th>Bedford</th>\n",
       "      <th>Botetourt</th>\n",
       "      <th>Fairfax</th>\n",
       "      <th>Falls Church</th>\n",
       "      <th>Prince William</th>\n",
       "    </tr>\n",
       "  </thead>\n",
       "  <tbody>\n",
       "    <tr>\n",
       "      <th>Median Income</th>\n",
       "      <td>80847</td>\n",
       "      <td>44757</td>\n",
       "      <td>94880</td>\n",
       "      <td>50612</td>\n",
       "      <td>54110</td>\n",
       "      <td>64724</td>\n",
       "      <td>105416</td>\n",
       "      <td>114409</td>\n",
       "      <td>91098</td>\n",
       "    </tr>\n",
       "    <tr>\n",
       "      <th>Households</th>\n",
       "      <td>68082</td>\n",
       "      <td>12560</td>\n",
       "      <td>98050</td>\n",
       "      <td>28516</td>\n",
       "      <td>27465</td>\n",
       "      <td>13126</td>\n",
       "      <td>391627</td>\n",
       "      <td>5101</td>\n",
       "      <td>130785</td>\n",
       "    </tr>\n",
       "  </tbody>\n",
       "</table>\n",
       "</div>"
      ],
      "text/plain": [
       "               Alexandria  Amherst  Arlington  Augusta  Bedford  Botetourt  \\\n",
       "Median Income       80847    44757      94880    50612    54110      64724   \n",
       "Households          68082    12560      98050    28516    27465      13126   \n",
       "\n",
       "               Fairfax  Falls Church  Prince William  \n",
       "Median Income   105416        114409           91098  \n",
       "Households      391627          5101          130785  "
      ]
     },
     "execution_count": 67,
     "metadata": {},
     "output_type": "execute_result"
    }
   ],
   "source": [
    "counties3 = counties2.unstack()\n",
    "counties3"
   ]
  },
  {
   "cell_type": "code",
   "execution_count": 68,
   "id": "d83ed1fe-9c6e-47ed-a926-1c89b5f6dcb9",
   "metadata": {
    "tags": []
   },
   "outputs": [
    {
     "data": {
      "text/plain": [
       "Index(['Alexandria', 'Amherst', 'Arlington', 'Augusta', 'Bedford', 'Botetourt',\n",
       "       'Fairfax', 'Falls Church', 'Prince William'],\n",
       "      dtype='object')"
      ]
     },
     "execution_count": 68,
     "metadata": {},
     "output_type": "execute_result"
    }
   ],
   "source": [
    "counties3.columns"
   ]
  },
  {
   "cell_type": "code",
   "execution_count": 69,
   "id": "cbac1f58-e3d1-4f3e-ac55-f28544d24c4e",
   "metadata": {
    "tags": []
   },
   "outputs": [
    {
     "data": {
      "text/plain": [
       "Index(['Median Income', 'Households'], dtype='object')"
      ]
     },
     "execution_count": 69,
     "metadata": {},
     "output_type": "execute_result"
    }
   ],
   "source": [
    "counties3.index"
   ]
  },
  {
   "cell_type": "code",
   "execution_count": 70,
   "id": "24f74282-c992-4a3f-9244-fa2fec0a7be4",
   "metadata": {
    "tags": []
   },
   "outputs": [
    {
     "data": {
      "text/plain": [
       "Median Income  Alexandria         80847\n",
       "               Amherst            44757\n",
       "               Arlington          94880\n",
       "               Augusta            50612\n",
       "               Bedford            54110\n",
       "               Botetourt          64724\n",
       "               Fairfax           105416\n",
       "               Falls Church      114409\n",
       "               Prince William     91098\n",
       "Households     Alexandria         68082\n",
       "               Amherst            12560\n",
       "               Arlington          98050\n",
       "               Augusta            28516\n",
       "               Bedford            27465\n",
       "               Botetourt          13126\n",
       "               Fairfax           391627\n",
       "               Falls Church        5101\n",
       "               Prince William    130785\n",
       "dtype: int64"
      ]
     },
     "execution_count": 70,
     "metadata": {},
     "output_type": "execute_result"
    }
   ],
   "source": [
    "counties2"
   ]
  },
  {
   "cell_type": "code",
   "execution_count": 71,
   "id": "2444aa69-d39f-4ddd-ae16-b11a960e63f0",
   "metadata": {
    "tags": []
   },
   "outputs": [
    {
     "data": {
      "text/plain": [
       "44757"
      ]
     },
     "execution_count": 71,
     "metadata": {},
     "output_type": "execute_result"
    }
   ],
   "source": [
    "counties2[\"Median Income\"][\"Amherst\"]"
   ]
  },
  {
   "cell_type": "code",
   "execution_count": 72,
   "id": "b05c1a59-0850-4b9d-a33e-373b96baba0c",
   "metadata": {
    "tags": []
   },
   "outputs": [
    {
     "data": {
      "text/html": [
       "<div>\n",
       "<style scoped>\n",
       "    .dataframe tbody tr th:only-of-type {\n",
       "        vertical-align: middle;\n",
       "    }\n",
       "\n",
       "    .dataframe tbody tr th {\n",
       "        vertical-align: top;\n",
       "    }\n",
       "\n",
       "    .dataframe thead th {\n",
       "        text-align: right;\n",
       "    }\n",
       "</style>\n",
       "<table border=\"1\" class=\"dataframe\">\n",
       "  <thead>\n",
       "    <tr style=\"text-align: right;\">\n",
       "      <th></th>\n",
       "      <th>Median Income</th>\n",
       "      <th>Households</th>\n",
       "    </tr>\n",
       "  </thead>\n",
       "  <tbody>\n",
       "    <tr>\n",
       "      <th>Alexandria</th>\n",
       "      <td>80847</td>\n",
       "      <td>68082</td>\n",
       "    </tr>\n",
       "    <tr>\n",
       "      <th>Amherst</th>\n",
       "      <td>44757</td>\n",
       "      <td>12560</td>\n",
       "    </tr>\n",
       "    <tr>\n",
       "      <th>Arlington</th>\n",
       "      <td>94880</td>\n",
       "      <td>98050</td>\n",
       "    </tr>\n",
       "    <tr>\n",
       "      <th>Augusta</th>\n",
       "      <td>50612</td>\n",
       "      <td>28516</td>\n",
       "    </tr>\n",
       "    <tr>\n",
       "      <th>Bedford</th>\n",
       "      <td>54110</td>\n",
       "      <td>27465</td>\n",
       "    </tr>\n",
       "    <tr>\n",
       "      <th>Botetourt</th>\n",
       "      <td>64724</td>\n",
       "      <td>13126</td>\n",
       "    </tr>\n",
       "    <tr>\n",
       "      <th>Fairfax</th>\n",
       "      <td>105416</td>\n",
       "      <td>391627</td>\n",
       "    </tr>\n",
       "    <tr>\n",
       "      <th>Falls Church</th>\n",
       "      <td>114409</td>\n",
       "      <td>5101</td>\n",
       "    </tr>\n",
       "    <tr>\n",
       "      <th>Prince William</th>\n",
       "      <td>91098</td>\n",
       "      <td>130785</td>\n",
       "    </tr>\n",
       "  </tbody>\n",
       "</table>\n",
       "</div>"
      ],
      "text/plain": [
       "                Median Income  Households\n",
       "Alexandria              80847       68082\n",
       "Amherst                 44757       12560\n",
       "Arlington               94880       98050\n",
       "Augusta                 50612       28516\n",
       "Bedford                 54110       27465\n",
       "Botetourt               64724       13126\n",
       "Fairfax                105416      391627\n",
       "Falls Church           114409        5101\n",
       "Prince William          91098      130785"
      ]
     },
     "execution_count": 72,
     "metadata": {},
     "output_type": "execute_result"
    }
   ],
   "source": [
    "counties2 = counties2.unstack(0)\n",
    "\n",
    "counties2"
   ]
  },
  {
   "cell_type": "code",
   "execution_count": 73,
   "id": "c748da2d-35b1-4aab-b088-53628f83cdd9",
   "metadata": {
    "tags": []
   },
   "outputs": [],
   "source": [
    "counties[\"Region\"] = [\n",
    "    \"Northern\",\n",
    "    \"Central\",\n",
    "    \"Northern\",\n",
    "    \"Central\",\n",
    "    \"Central\",\n",
    "    \"Southwestern\",\n",
    "    \"Northern\",\n",
    "    \"Northern\",\n",
    "    \"Northern\",\n",
    "]"
   ]
  },
  {
   "cell_type": "code",
   "execution_count": 74,
   "id": "31c73706-13ba-42d8-ac01-8f59130b3846",
   "metadata": {
    "tags": []
   },
   "outputs": [
    {
     "data": {
      "text/html": [
       "<div>\n",
       "<style scoped>\n",
       "    .dataframe tbody tr th:only-of-type {\n",
       "        vertical-align: middle;\n",
       "    }\n",
       "\n",
       "    .dataframe tbody tr th {\n",
       "        vertical-align: top;\n",
       "    }\n",
       "\n",
       "    .dataframe thead th {\n",
       "        text-align: right;\n",
       "    }\n",
       "</style>\n",
       "<table border=\"1\" class=\"dataframe\">\n",
       "  <thead>\n",
       "    <tr style=\"text-align: right;\">\n",
       "      <th></th>\n",
       "      <th>Median Income</th>\n",
       "      <th>Households</th>\n",
       "      <th>Region</th>\n",
       "    </tr>\n",
       "  </thead>\n",
       "  <tbody>\n",
       "    <tr>\n",
       "      <th>Alexandria</th>\n",
       "      <td>80847</td>\n",
       "      <td>68082</td>\n",
       "      <td>Northern</td>\n",
       "    </tr>\n",
       "    <tr>\n",
       "      <th>Amherst</th>\n",
       "      <td>44757</td>\n",
       "      <td>12560</td>\n",
       "      <td>Central</td>\n",
       "    </tr>\n",
       "    <tr>\n",
       "      <th>Arlington</th>\n",
       "      <td>94880</td>\n",
       "      <td>98050</td>\n",
       "      <td>Northern</td>\n",
       "    </tr>\n",
       "    <tr>\n",
       "      <th>Augusta</th>\n",
       "      <td>50612</td>\n",
       "      <td>28516</td>\n",
       "      <td>Central</td>\n",
       "    </tr>\n",
       "    <tr>\n",
       "      <th>Bedford</th>\n",
       "      <td>54110</td>\n",
       "      <td>27465</td>\n",
       "      <td>Central</td>\n",
       "    </tr>\n",
       "    <tr>\n",
       "      <th>Botetourt</th>\n",
       "      <td>64724</td>\n",
       "      <td>13126</td>\n",
       "      <td>Southwestern</td>\n",
       "    </tr>\n",
       "    <tr>\n",
       "      <th>Fairfax</th>\n",
       "      <td>105416</td>\n",
       "      <td>391627</td>\n",
       "      <td>Northern</td>\n",
       "    </tr>\n",
       "    <tr>\n",
       "      <th>Falls Church</th>\n",
       "      <td>114409</td>\n",
       "      <td>5101</td>\n",
       "      <td>Northern</td>\n",
       "    </tr>\n",
       "    <tr>\n",
       "      <th>Prince William</th>\n",
       "      <td>91098</td>\n",
       "      <td>130785</td>\n",
       "      <td>Northern</td>\n",
       "    </tr>\n",
       "  </tbody>\n",
       "</table>\n",
       "</div>"
      ],
      "text/plain": [
       "                Median Income  Households        Region\n",
       "Alexandria              80847       68082      Northern\n",
       "Amherst                 44757       12560       Central\n",
       "Arlington               94880       98050      Northern\n",
       "Augusta                 50612       28516       Central\n",
       "Bedford                 54110       27465       Central\n",
       "Botetourt               64724       13126  Southwestern\n",
       "Fairfax                105416      391627      Northern\n",
       "Falls Church           114409        5101      Northern\n",
       "Prince William          91098      130785      Northern"
      ]
     },
     "execution_count": 74,
     "metadata": {},
     "output_type": "execute_result"
    }
   ],
   "source": [
    "counties"
   ]
  },
  {
   "cell_type": "code",
   "execution_count": 76,
   "id": "d1372d59-3365-4033-824e-67f5c43bd5a3",
   "metadata": {
    "tags": []
   },
   "outputs": [
    {
     "data": {
      "text/plain": [
       "Median Income     int32\n",
       "Households        int64\n",
       "Region           object\n",
       "dtype: object"
      ]
     },
     "execution_count": 76,
     "metadata": {},
     "output_type": "execute_result"
    }
   ],
   "source": [
    "counties.dtypes"
   ]
  },
  {
   "cell_type": "code",
   "execution_count": 77,
   "id": "107f241f-c577-4a87-843e-ebd20aa1d0b6",
   "metadata": {
    "tags": []
   },
   "outputs": [],
   "source": [
    "counties[\"Total Household Income\"] = counties[\"Median Income\"] * counties[\"Households\"]"
   ]
  },
  {
   "cell_type": "code",
   "execution_count": 78,
   "id": "13ac1d99-0df0-4fb3-acdc-bf6343ea70d7",
   "metadata": {
    "tags": []
   },
   "outputs": [
    {
     "data": {
      "text/html": [
       "<div>\n",
       "<style scoped>\n",
       "    .dataframe tbody tr th:only-of-type {\n",
       "        vertical-align: middle;\n",
       "    }\n",
       "\n",
       "    .dataframe tbody tr th {\n",
       "        vertical-align: top;\n",
       "    }\n",
       "\n",
       "    .dataframe thead th {\n",
       "        text-align: right;\n",
       "    }\n",
       "</style>\n",
       "<table border=\"1\" class=\"dataframe\">\n",
       "  <thead>\n",
       "    <tr style=\"text-align: right;\">\n",
       "      <th></th>\n",
       "      <th>Median Income</th>\n",
       "      <th>Households</th>\n",
       "      <th>Region</th>\n",
       "      <th>Total Household Income</th>\n",
       "    </tr>\n",
       "  </thead>\n",
       "  <tbody>\n",
       "    <tr>\n",
       "      <th>Alexandria</th>\n",
       "      <td>80847</td>\n",
       "      <td>68082</td>\n",
       "      <td>Northern</td>\n",
       "      <td>5504225454</td>\n",
       "    </tr>\n",
       "    <tr>\n",
       "      <th>Amherst</th>\n",
       "      <td>44757</td>\n",
       "      <td>12560</td>\n",
       "      <td>Central</td>\n",
       "      <td>562147920</td>\n",
       "    </tr>\n",
       "    <tr>\n",
       "      <th>Arlington</th>\n",
       "      <td>94880</td>\n",
       "      <td>98050</td>\n",
       "      <td>Northern</td>\n",
       "      <td>9302984000</td>\n",
       "    </tr>\n",
       "    <tr>\n",
       "      <th>Augusta</th>\n",
       "      <td>50612</td>\n",
       "      <td>28516</td>\n",
       "      <td>Central</td>\n",
       "      <td>1443251792</td>\n",
       "    </tr>\n",
       "    <tr>\n",
       "      <th>Bedford</th>\n",
       "      <td>54110</td>\n",
       "      <td>27465</td>\n",
       "      <td>Central</td>\n",
       "      <td>1486131150</td>\n",
       "    </tr>\n",
       "    <tr>\n",
       "      <th>Botetourt</th>\n",
       "      <td>64724</td>\n",
       "      <td>13126</td>\n",
       "      <td>Southwestern</td>\n",
       "      <td>849567224</td>\n",
       "    </tr>\n",
       "    <tr>\n",
       "      <th>Fairfax</th>\n",
       "      <td>105416</td>\n",
       "      <td>391627</td>\n",
       "      <td>Northern</td>\n",
       "      <td>41283751832</td>\n",
       "    </tr>\n",
       "    <tr>\n",
       "      <th>Falls Church</th>\n",
       "      <td>114409</td>\n",
       "      <td>5101</td>\n",
       "      <td>Northern</td>\n",
       "      <td>583600309</td>\n",
       "    </tr>\n",
       "    <tr>\n",
       "      <th>Prince William</th>\n",
       "      <td>91098</td>\n",
       "      <td>130785</td>\n",
       "      <td>Northern</td>\n",
       "      <td>11914251930</td>\n",
       "    </tr>\n",
       "  </tbody>\n",
       "</table>\n",
       "</div>"
      ],
      "text/plain": [
       "                Median Income  Households        Region  \\\n",
       "Alexandria              80847       68082      Northern   \n",
       "Amherst                 44757       12560       Central   \n",
       "Arlington               94880       98050      Northern   \n",
       "Augusta                 50612       28516       Central   \n",
       "Bedford                 54110       27465       Central   \n",
       "Botetourt               64724       13126  Southwestern   \n",
       "Fairfax                105416      391627      Northern   \n",
       "Falls Church           114409        5101      Northern   \n",
       "Prince William          91098      130785      Northern   \n",
       "\n",
       "                Total Household Income  \n",
       "Alexandria                  5504225454  \n",
       "Amherst                      562147920  \n",
       "Arlington                   9302984000  \n",
       "Augusta                     1443251792  \n",
       "Bedford                     1486131150  \n",
       "Botetourt                    849567224  \n",
       "Fairfax                    41283751832  \n",
       "Falls Church                 583600309  \n",
       "Prince William             11914251930  "
      ]
     },
     "execution_count": 78,
     "metadata": {},
     "output_type": "execute_result"
    }
   ],
   "source": [
    "counties"
   ]
  },
  {
   "cell_type": "code",
   "execution_count": 79,
   "id": "d45aec93-8393-47d2-b936-1fd1cac01400",
   "metadata": {
    "tags": []
   },
   "outputs": [
    {
     "data": {
      "text/html": [
       "<div>\n",
       "<style scoped>\n",
       "    .dataframe tbody tr th:only-of-type {\n",
       "        vertical-align: middle;\n",
       "    }\n",
       "\n",
       "    .dataframe tbody tr th {\n",
       "        vertical-align: top;\n",
       "    }\n",
       "\n",
       "    .dataframe thead th {\n",
       "        text-align: right;\n",
       "    }\n",
       "</style>\n",
       "<table border=\"1\" class=\"dataframe\">\n",
       "  <thead>\n",
       "    <tr style=\"text-align: right;\">\n",
       "      <th></th>\n",
       "      <th>Median Income</th>\n",
       "      <th>Households</th>\n",
       "      <th>Region</th>\n",
       "      <th>Total Household Income</th>\n",
       "    </tr>\n",
       "    <tr>\n",
       "      <th>County</th>\n",
       "      <th></th>\n",
       "      <th></th>\n",
       "      <th></th>\n",
       "      <th></th>\n",
       "    </tr>\n",
       "  </thead>\n",
       "  <tbody>\n",
       "    <tr>\n",
       "      <th>Alexandria</th>\n",
       "      <td>80847</td>\n",
       "      <td>68082</td>\n",
       "      <td>Northern</td>\n",
       "      <td>5504225454</td>\n",
       "    </tr>\n",
       "    <tr>\n",
       "      <th>Amherst</th>\n",
       "      <td>44757</td>\n",
       "      <td>12560</td>\n",
       "      <td>Central</td>\n",
       "      <td>562147920</td>\n",
       "    </tr>\n",
       "    <tr>\n",
       "      <th>Arlington</th>\n",
       "      <td>94880</td>\n",
       "      <td>98050</td>\n",
       "      <td>Northern</td>\n",
       "      <td>9302984000</td>\n",
       "    </tr>\n",
       "    <tr>\n",
       "      <th>Augusta</th>\n",
       "      <td>50612</td>\n",
       "      <td>28516</td>\n",
       "      <td>Central</td>\n",
       "      <td>1443251792</td>\n",
       "    </tr>\n",
       "    <tr>\n",
       "      <th>Bedford</th>\n",
       "      <td>54110</td>\n",
       "      <td>27465</td>\n",
       "      <td>Central</td>\n",
       "      <td>1486131150</td>\n",
       "    </tr>\n",
       "    <tr>\n",
       "      <th>Botetourt</th>\n",
       "      <td>64724</td>\n",
       "      <td>13126</td>\n",
       "      <td>Southwestern</td>\n",
       "      <td>849567224</td>\n",
       "    </tr>\n",
       "    <tr>\n",
       "      <th>Fairfax</th>\n",
       "      <td>105416</td>\n",
       "      <td>391627</td>\n",
       "      <td>Northern</td>\n",
       "      <td>41283751832</td>\n",
       "    </tr>\n",
       "    <tr>\n",
       "      <th>Falls Church</th>\n",
       "      <td>114409</td>\n",
       "      <td>5101</td>\n",
       "      <td>Northern</td>\n",
       "      <td>583600309</td>\n",
       "    </tr>\n",
       "    <tr>\n",
       "      <th>Prince William</th>\n",
       "      <td>91098</td>\n",
       "      <td>130785</td>\n",
       "      <td>Northern</td>\n",
       "      <td>11914251930</td>\n",
       "    </tr>\n",
       "  </tbody>\n",
       "</table>\n",
       "</div>"
      ],
      "text/plain": [
       "                Median Income  Households        Region  \\\n",
       "County                                                    \n",
       "Alexandria              80847       68082      Northern   \n",
       "Amherst                 44757       12560       Central   \n",
       "Arlington               94880       98050      Northern   \n",
       "Augusta                 50612       28516       Central   \n",
       "Bedford                 54110       27465       Central   \n",
       "Botetourt               64724       13126  Southwestern   \n",
       "Fairfax                105416      391627      Northern   \n",
       "Falls Church           114409        5101      Northern   \n",
       "Prince William          91098      130785      Northern   \n",
       "\n",
       "                Total Household Income  \n",
       "County                                  \n",
       "Alexandria                  5504225454  \n",
       "Amherst                      562147920  \n",
       "Arlington                   9302984000  \n",
       "Augusta                     1443251792  \n",
       "Bedford                     1486131150  \n",
       "Botetourt                    849567224  \n",
       "Fairfax                    41283751832  \n",
       "Falls Church                 583600309  \n",
       "Prince William             11914251930  "
      ]
     },
     "execution_count": 79,
     "metadata": {},
     "output_type": "execute_result"
    }
   ],
   "source": [
    "counties.index.name = \"County\"\n",
    "\n",
    "counties"
   ]
  },
  {
   "cell_type": "code",
   "execution_count": 80,
   "id": "8186c85a-5eb8-4bbf-a07c-e1c58fc96f17",
   "metadata": {
    "tags": []
   },
   "outputs": [],
   "source": [
    "counties.to_csv(\"counties.csv\")"
   ]
  },
  {
   "cell_type": "code",
   "execution_count": 81,
   "id": "98addc85-54c7-4dfd-a10a-8b2abf947c01",
   "metadata": {
    "tags": []
   },
   "outputs": [
    {
     "data": {
      "text/html": [
       "<div>\n",
       "<style scoped>\n",
       "    .dataframe tbody tr th:only-of-type {\n",
       "        vertical-align: middle;\n",
       "    }\n",
       "\n",
       "    .dataframe tbody tr th {\n",
       "        vertical-align: top;\n",
       "    }\n",
       "\n",
       "    .dataframe thead th {\n",
       "        text-align: right;\n",
       "    }\n",
       "</style>\n",
       "<table border=\"1\" class=\"dataframe\">\n",
       "  <thead>\n",
       "    <tr style=\"text-align: right;\">\n",
       "      <th></th>\n",
       "      <th>Median Income</th>\n",
       "      <th>Households</th>\n",
       "      <th>Region</th>\n",
       "      <th>Total Household Income</th>\n",
       "    </tr>\n",
       "    <tr>\n",
       "      <th>County</th>\n",
       "      <th></th>\n",
       "      <th></th>\n",
       "      <th></th>\n",
       "      <th></th>\n",
       "    </tr>\n",
       "  </thead>\n",
       "  <tbody>\n",
       "    <tr>\n",
       "      <th>Alexandria</th>\n",
       "      <td>80847</td>\n",
       "      <td>68082</td>\n",
       "      <td>Northern</td>\n",
       "      <td>5504225454</td>\n",
       "    </tr>\n",
       "    <tr>\n",
       "      <th>Amherst</th>\n",
       "      <td>44757</td>\n",
       "      <td>12560</td>\n",
       "      <td>Central</td>\n",
       "      <td>562147920</td>\n",
       "    </tr>\n",
       "    <tr>\n",
       "      <th>Arlington</th>\n",
       "      <td>94880</td>\n",
       "      <td>98050</td>\n",
       "      <td>Northern</td>\n",
       "      <td>9302984000</td>\n",
       "    </tr>\n",
       "    <tr>\n",
       "      <th>Augusta</th>\n",
       "      <td>50612</td>\n",
       "      <td>28516</td>\n",
       "      <td>Central</td>\n",
       "      <td>1443251792</td>\n",
       "    </tr>\n",
       "    <tr>\n",
       "      <th>Bedford</th>\n",
       "      <td>54110</td>\n",
       "      <td>27465</td>\n",
       "      <td>Central</td>\n",
       "      <td>1486131150</td>\n",
       "    </tr>\n",
       "    <tr>\n",
       "      <th>Botetourt</th>\n",
       "      <td>64724</td>\n",
       "      <td>13126</td>\n",
       "      <td>Southwestern</td>\n",
       "      <td>849567224</td>\n",
       "    </tr>\n",
       "    <tr>\n",
       "      <th>Fairfax</th>\n",
       "      <td>105416</td>\n",
       "      <td>391627</td>\n",
       "      <td>Northern</td>\n",
       "      <td>41283751832</td>\n",
       "    </tr>\n",
       "    <tr>\n",
       "      <th>Falls Church</th>\n",
       "      <td>114409</td>\n",
       "      <td>5101</td>\n",
       "      <td>Northern</td>\n",
       "      <td>583600309</td>\n",
       "    </tr>\n",
       "    <tr>\n",
       "      <th>Prince William</th>\n",
       "      <td>91098</td>\n",
       "      <td>130785</td>\n",
       "      <td>Northern</td>\n",
       "      <td>11914251930</td>\n",
       "    </tr>\n",
       "  </tbody>\n",
       "</table>\n",
       "</div>"
      ],
      "text/plain": [
       "                Median Income  Households        Region  \\\n",
       "County                                                    \n",
       "Alexandria              80847       68082      Northern   \n",
       "Amherst                 44757       12560       Central   \n",
       "Arlington               94880       98050      Northern   \n",
       "Augusta                 50612       28516       Central   \n",
       "Bedford                 54110       27465       Central   \n",
       "Botetourt               64724       13126  Southwestern   \n",
       "Fairfax                105416      391627      Northern   \n",
       "Falls Church           114409        5101      Northern   \n",
       "Prince William          91098      130785      Northern   \n",
       "\n",
       "                Total Household Income  \n",
       "County                                  \n",
       "Alexandria                  5504225454  \n",
       "Amherst                      562147920  \n",
       "Arlington                   9302984000  \n",
       "Augusta                     1443251792  \n",
       "Bedford                     1486131150  \n",
       "Botetourt                    849567224  \n",
       "Fairfax                    41283751832  \n",
       "Falls Church                 583600309  \n",
       "Prince William             11914251930  "
      ]
     },
     "execution_count": 81,
     "metadata": {},
     "output_type": "execute_result"
    }
   ],
   "source": [
    "counties4 = pd.read_csv(\"counties.csv\", index_col=0)\n",
    "\n",
    "counties4"
   ]
  },
  {
   "cell_type": "code",
   "execution_count": 83,
   "id": "71c5f76c-9a89-4759-9fc7-2f327e3d7e10",
   "metadata": {
    "tags": []
   },
   "outputs": [
    {
     "data": {
      "text/html": [
       "<div>\n",
       "<style scoped>\n",
       "    .dataframe tbody tr th:only-of-type {\n",
       "        vertical-align: middle;\n",
       "    }\n",
       "\n",
       "    .dataframe tbody tr th {\n",
       "        vertical-align: top;\n",
       "    }\n",
       "\n",
       "    .dataframe thead th {\n",
       "        text-align: right;\n",
       "    }\n",
       "</style>\n",
       "<table border=\"1\" class=\"dataframe\">\n",
       "  <thead>\n",
       "    <tr style=\"text-align: right;\">\n",
       "      <th></th>\n",
       "      <th>Total Household Income</th>\n",
       "    </tr>\n",
       "    <tr>\n",
       "      <th>Region</th>\n",
       "      <th></th>\n",
       "    </tr>\n",
       "  </thead>\n",
       "  <tbody>\n",
       "    <tr>\n",
       "      <th>Central</th>\n",
       "      <td>3491530862</td>\n",
       "    </tr>\n",
       "    <tr>\n",
       "      <th>Northern</th>\n",
       "      <td>68588813525</td>\n",
       "    </tr>\n",
       "    <tr>\n",
       "      <th>Southwestern</th>\n",
       "      <td>849567224</td>\n",
       "    </tr>\n",
       "  </tbody>\n",
       "</table>\n",
       "</div>"
      ],
      "text/plain": [
       "              Total Household Income\n",
       "Region                              \n",
       "Central                   3491530862\n",
       "Northern                 68588813525\n",
       "Southwestern               849567224"
      ]
     },
     "execution_count": 83,
     "metadata": {},
     "output_type": "execute_result"
    }
   ],
   "source": [
    "table = counties4.pivot_table(\n",
    "    values=['Total Household Income'],\n",
    "    index=['Region'],\n",
    "    aggfunc=np.sum)\n",
    "\n",
    "table"
   ]
  },
  {
   "cell_type": "code",
   "execution_count": 84,
   "id": "66af756b-bd0f-4ffb-b2a1-1aa52baf8975",
   "metadata": {
    "tags": []
   },
   "outputs": [
    {
     "data": {
      "text/html": [
       "<div>\n",
       "<style scoped>\n",
       "    .dataframe tbody tr th:only-of-type {\n",
       "        vertical-align: middle;\n",
       "    }\n",
       "\n",
       "    .dataframe tbody tr th {\n",
       "        vertical-align: top;\n",
       "    }\n",
       "\n",
       "    .dataframe thead tr th {\n",
       "        text-align: left;\n",
       "    }\n",
       "\n",
       "    .dataframe thead tr:last-of-type th {\n",
       "        text-align: right;\n",
       "    }\n",
       "</style>\n",
       "<table border=\"1\" class=\"dataframe\">\n",
       "  <thead>\n",
       "    <tr>\n",
       "      <th></th>\n",
       "      <th colspan=\"3\" halign=\"left\">Total Household Income</th>\n",
       "    </tr>\n",
       "    <tr>\n",
       "      <th></th>\n",
       "      <th>max</th>\n",
       "      <th>mean</th>\n",
       "      <th>min</th>\n",
       "    </tr>\n",
       "    <tr>\n",
       "      <th>Region</th>\n",
       "      <th></th>\n",
       "      <th></th>\n",
       "      <th></th>\n",
       "    </tr>\n",
       "  </thead>\n",
       "  <tbody>\n",
       "    <tr>\n",
       "      <th>Central</th>\n",
       "      <td>1486131150</td>\n",
       "      <td>1.163844e+09</td>\n",
       "      <td>562147920</td>\n",
       "    </tr>\n",
       "    <tr>\n",
       "      <th>Northern</th>\n",
       "      <td>41283751832</td>\n",
       "      <td>1.371776e+10</td>\n",
       "      <td>583600309</td>\n",
       "    </tr>\n",
       "    <tr>\n",
       "      <th>Southwestern</th>\n",
       "      <td>849567224</td>\n",
       "      <td>8.495672e+08</td>\n",
       "      <td>849567224</td>\n",
       "    </tr>\n",
       "  </tbody>\n",
       "</table>\n",
       "</div>"
      ],
      "text/plain": [
       "             Total Household Income                         \n",
       "                                max          mean        min\n",
       "Region                                                      \n",
       "Central                  1486131150  1.163844e+09  562147920\n",
       "Northern                41283751832  1.371776e+10  583600309\n",
       "Southwestern              849567224  8.495672e+08  849567224"
      ]
     },
     "execution_count": 84,
     "metadata": {},
     "output_type": "execute_result"
    }
   ],
   "source": [
    "table = counties4.pivot_table(values=['Total Household Income'], index=['Region'],\n",
    "                              aggfunc={'Total Household Income': [min, max, np.mean]})\n",
    "\n",
    "table"
   ]
  },
  {
   "cell_type": "code",
   "execution_count": 85,
   "id": "bae9a6c0-342b-4a9a-9c92-4dd858bafaed",
   "metadata": {
    "tags": []
   },
   "outputs": [
    {
     "data": {
      "text/html": [
       "<div>\n",
       "<style scoped>\n",
       "    .dataframe tbody tr th:only-of-type {\n",
       "        vertical-align: middle;\n",
       "    }\n",
       "\n",
       "    .dataframe tbody tr th {\n",
       "        vertical-align: top;\n",
       "    }\n",
       "\n",
       "    .dataframe thead th {\n",
       "        text-align: right;\n",
       "    }\n",
       "</style>\n",
       "<table border=\"1\" class=\"dataframe\">\n",
       "  <thead>\n",
       "    <tr style=\"text-align: right;\">\n",
       "      <th></th>\n",
       "      <th>fixed acidity</th>\n",
       "      <th>volatile acidity</th>\n",
       "      <th>citric acid</th>\n",
       "      <th>residual sugar</th>\n",
       "      <th>chlorides</th>\n",
       "      <th>free sulfur dioxide</th>\n",
       "      <th>total sulfur dioxide</th>\n",
       "      <th>density</th>\n",
       "      <th>pH</th>\n",
       "      <th>sulphates</th>\n",
       "      <th>alcohol</th>\n",
       "      <th>quality</th>\n",
       "    </tr>\n",
       "  </thead>\n",
       "  <tbody>\n",
       "    <tr>\n",
       "      <th>0</th>\n",
       "      <td>11.6</td>\n",
       "      <td>0.580</td>\n",
       "      <td>0.66</td>\n",
       "      <td>2.20</td>\n",
       "      <td>0.074</td>\n",
       "      <td>10.0</td>\n",
       "      <td>47.0</td>\n",
       "      <td>1.00080</td>\n",
       "      <td>3.25</td>\n",
       "      <td>0.57</td>\n",
       "      <td>9.0</td>\n",
       "      <td>3</td>\n",
       "    </tr>\n",
       "    <tr>\n",
       "      <th>1</th>\n",
       "      <td>10.4</td>\n",
       "      <td>0.610</td>\n",
       "      <td>0.49</td>\n",
       "      <td>2.10</td>\n",
       "      <td>0.200</td>\n",
       "      <td>5.0</td>\n",
       "      <td>16.0</td>\n",
       "      <td>0.99940</td>\n",
       "      <td>3.16</td>\n",
       "      <td>0.63</td>\n",
       "      <td>8.4</td>\n",
       "      <td>3</td>\n",
       "    </tr>\n",
       "    <tr>\n",
       "      <th>2</th>\n",
       "      <td>7.4</td>\n",
       "      <td>1.185</td>\n",
       "      <td>0.00</td>\n",
       "      <td>4.25</td>\n",
       "      <td>0.097</td>\n",
       "      <td>5.0</td>\n",
       "      <td>14.0</td>\n",
       "      <td>0.99660</td>\n",
       "      <td>3.63</td>\n",
       "      <td>0.54</td>\n",
       "      <td>10.7</td>\n",
       "      <td>3</td>\n",
       "    </tr>\n",
       "    <tr>\n",
       "      <th>3</th>\n",
       "      <td>10.4</td>\n",
       "      <td>0.440</td>\n",
       "      <td>0.42</td>\n",
       "      <td>1.50</td>\n",
       "      <td>0.145</td>\n",
       "      <td>34.0</td>\n",
       "      <td>48.0</td>\n",
       "      <td>0.99832</td>\n",
       "      <td>3.38</td>\n",
       "      <td>0.86</td>\n",
       "      <td>9.9</td>\n",
       "      <td>3</td>\n",
       "    </tr>\n",
       "    <tr>\n",
       "      <th>4</th>\n",
       "      <td>8.3</td>\n",
       "      <td>1.020</td>\n",
       "      <td>0.02</td>\n",
       "      <td>3.40</td>\n",
       "      <td>0.084</td>\n",
       "      <td>6.0</td>\n",
       "      <td>11.0</td>\n",
       "      <td>0.99892</td>\n",
       "      <td>3.48</td>\n",
       "      <td>0.49</td>\n",
       "      <td>11.0</td>\n",
       "      <td>3</td>\n",
       "    </tr>\n",
       "  </tbody>\n",
       "</table>\n",
       "</div>"
      ],
      "text/plain": [
       "   fixed acidity  volatile acidity  citric acid  residual sugar  chlorides  \\\n",
       "0           11.6             0.580         0.66            2.20      0.074   \n",
       "1           10.4             0.610         0.49            2.10      0.200   \n",
       "2            7.4             1.185         0.00            4.25      0.097   \n",
       "3           10.4             0.440         0.42            1.50      0.145   \n",
       "4            8.3             1.020         0.02            3.40      0.084   \n",
       "\n",
       "   free sulfur dioxide  total sulfur dioxide  density    pH  sulphates  \\\n",
       "0                 10.0                  47.0  1.00080  3.25       0.57   \n",
       "1                  5.0                  16.0  0.99940  3.16       0.63   \n",
       "2                  5.0                  14.0  0.99660  3.63       0.54   \n",
       "3                 34.0                  48.0  0.99832  3.38       0.86   \n",
       "4                  6.0                  11.0  0.99892  3.48       0.49   \n",
       "\n",
       "   alcohol  quality  \n",
       "0      9.0        3  \n",
       "1      8.4        3  \n",
       "2     10.7        3  \n",
       "3      9.9        3  \n",
       "4     11.0        3  "
      ]
     },
     "execution_count": 85,
     "metadata": {},
     "output_type": "execute_result"
    }
   ],
   "source": [
    "\n",
    "\n",
    "wine_data = pd.read_csv(\"../data/Portuguese_VinhoVerde_RedWine_Quality.csv\")\n",
    "\n",
    "wine_data.head()\n",
    "\n"
   ]
  },
  {
   "cell_type": "code",
   "execution_count": 86,
   "id": "57b7827b-a729-4c74-96b9-79a61b69dc44",
   "metadata": {
    "tags": []
   },
   "outputs": [
    {
     "data": {
      "text/plain": [
       "fixed acidity           float64\n",
       "volatile acidity        float64\n",
       "citric acid             float64\n",
       "residual sugar          float64\n",
       "chlorides               float64\n",
       "free sulfur dioxide     float64\n",
       "total sulfur dioxide    float64\n",
       "density                 float64\n",
       "pH                      float64\n",
       "sulphates               float64\n",
       "alcohol                 float64\n",
       "quality                   int64\n",
       "dtype: object"
      ]
     },
     "execution_count": 86,
     "metadata": {},
     "output_type": "execute_result"
    }
   ],
   "source": [
    "wine_data.dtypes"
   ]
  },
  {
   "cell_type": "code",
   "execution_count": 92,
   "id": "92c38273-ffa1-446c-b262-9bf3e3ae939c",
   "metadata": {
    "tags": []
   },
   "outputs": [
    {
     "data": {
      "text/html": [
       "<div>\n",
       "<style scoped>\n",
       "    .dataframe tbody tr th:only-of-type {\n",
       "        vertical-align: middle;\n",
       "    }\n",
       "\n",
       "    .dataframe tbody tr th {\n",
       "        vertical-align: top;\n",
       "    }\n",
       "\n",
       "    .dataframe thead th {\n",
       "        text-align: right;\n",
       "    }\n",
       "</style>\n",
       "<table border=\"1\" class=\"dataframe\">\n",
       "  <thead>\n",
       "    <tr style=\"text-align: right;\">\n",
       "      <th></th>\n",
       "      <th>fixed acidity</th>\n",
       "      <th>volatile acidity</th>\n",
       "      <th>citric acid</th>\n",
       "      <th>residual sugar</th>\n",
       "      <th>chlorides</th>\n",
       "      <th>free sulfur dioxide</th>\n",
       "      <th>total sulfur dioxide</th>\n",
       "      <th>density</th>\n",
       "      <th>pH</th>\n",
       "      <th>sulphates</th>\n",
       "      <th>alcohol</th>\n",
       "      <th>quality</th>\n",
       "    </tr>\n",
       "  </thead>\n",
       "  <tbody>\n",
       "    <tr>\n",
       "      <th>0</th>\n",
       "      <td>11.6</td>\n",
       "      <td>0.580</td>\n",
       "      <td>0.66</td>\n",
       "      <td>2.20</td>\n",
       "      <td>0.074</td>\n",
       "      <td>10.0</td>\n",
       "      <td>47.0</td>\n",
       "      <td>1.00080</td>\n",
       "      <td>3.25</td>\n",
       "      <td>0.57</td>\n",
       "      <td>9.0</td>\n",
       "      <td>3</td>\n",
       "    </tr>\n",
       "    <tr>\n",
       "      <th>1</th>\n",
       "      <td>10.4</td>\n",
       "      <td>0.610</td>\n",
       "      <td>0.49</td>\n",
       "      <td>2.10</td>\n",
       "      <td>0.200</td>\n",
       "      <td>5.0</td>\n",
       "      <td>16.0</td>\n",
       "      <td>0.99940</td>\n",
       "      <td>3.16</td>\n",
       "      <td>0.63</td>\n",
       "      <td>8.4</td>\n",
       "      <td>3</td>\n",
       "    </tr>\n",
       "    <tr>\n",
       "      <th>2</th>\n",
       "      <td>7.4</td>\n",
       "      <td>1.185</td>\n",
       "      <td>0.00</td>\n",
       "      <td>4.25</td>\n",
       "      <td>0.097</td>\n",
       "      <td>5.0</td>\n",
       "      <td>14.0</td>\n",
       "      <td>0.99660</td>\n",
       "      <td>3.63</td>\n",
       "      <td>0.54</td>\n",
       "      <td>10.7</td>\n",
       "      <td>3</td>\n",
       "    </tr>\n",
       "    <tr>\n",
       "      <th>3</th>\n",
       "      <td>10.4</td>\n",
       "      <td>0.440</td>\n",
       "      <td>0.42</td>\n",
       "      <td>1.50</td>\n",
       "      <td>0.145</td>\n",
       "      <td>34.0</td>\n",
       "      <td>48.0</td>\n",
       "      <td>0.99832</td>\n",
       "      <td>3.38</td>\n",
       "      <td>0.86</td>\n",
       "      <td>9.9</td>\n",
       "      <td>3</td>\n",
       "    </tr>\n",
       "    <tr>\n",
       "      <th>4</th>\n",
       "      <td>8.3</td>\n",
       "      <td>1.020</td>\n",
       "      <td>0.02</td>\n",
       "      <td>3.40</td>\n",
       "      <td>0.084</td>\n",
       "      <td>6.0</td>\n",
       "      <td>11.0</td>\n",
       "      <td>0.99892</td>\n",
       "      <td>3.48</td>\n",
       "      <td>0.49</td>\n",
       "      <td>11.0</td>\n",
       "      <td>3</td>\n",
       "    </tr>\n",
       "    <tr>\n",
       "      <th>...</th>\n",
       "      <td>...</td>\n",
       "      <td>...</td>\n",
       "      <td>...</td>\n",
       "      <td>...</td>\n",
       "      <td>...</td>\n",
       "      <td>...</td>\n",
       "      <td>...</td>\n",
       "      <td>...</td>\n",
       "      <td>...</td>\n",
       "      <td>...</td>\n",
       "      <td>...</td>\n",
       "      <td>...</td>\n",
       "    </tr>\n",
       "    <tr>\n",
       "      <th>1594</th>\n",
       "      <td>8.6</td>\n",
       "      <td>0.420</td>\n",
       "      <td>0.39</td>\n",
       "      <td>1.80</td>\n",
       "      <td>0.068</td>\n",
       "      <td>6.0</td>\n",
       "      <td>12.0</td>\n",
       "      <td>0.99516</td>\n",
       "      <td>3.35</td>\n",
       "      <td>0.69</td>\n",
       "      <td>11.7</td>\n",
       "      <td>8</td>\n",
       "    </tr>\n",
       "    <tr>\n",
       "      <th>1595</th>\n",
       "      <td>5.5</td>\n",
       "      <td>0.490</td>\n",
       "      <td>0.03</td>\n",
       "      <td>1.80</td>\n",
       "      <td>0.044</td>\n",
       "      <td>28.0</td>\n",
       "      <td>87.0</td>\n",
       "      <td>0.99080</td>\n",
       "      <td>3.50</td>\n",
       "      <td>0.82</td>\n",
       "      <td>14.0</td>\n",
       "      <td>8</td>\n",
       "    </tr>\n",
       "    <tr>\n",
       "      <th>1596</th>\n",
       "      <td>7.2</td>\n",
       "      <td>0.330</td>\n",
       "      <td>0.33</td>\n",
       "      <td>1.70</td>\n",
       "      <td>0.061</td>\n",
       "      <td>3.0</td>\n",
       "      <td>13.0</td>\n",
       "      <td>0.99600</td>\n",
       "      <td>3.23</td>\n",
       "      <td>1.10</td>\n",
       "      <td>10.0</td>\n",
       "      <td>8</td>\n",
       "    </tr>\n",
       "    <tr>\n",
       "      <th>1597</th>\n",
       "      <td>7.2</td>\n",
       "      <td>0.380</td>\n",
       "      <td>0.31</td>\n",
       "      <td>2.00</td>\n",
       "      <td>0.056</td>\n",
       "      <td>15.0</td>\n",
       "      <td>29.0</td>\n",
       "      <td>0.99472</td>\n",
       "      <td>3.23</td>\n",
       "      <td>0.76</td>\n",
       "      <td>11.3</td>\n",
       "      <td>8</td>\n",
       "    </tr>\n",
       "    <tr>\n",
       "      <th>1598</th>\n",
       "      <td>7.4</td>\n",
       "      <td>0.360</td>\n",
       "      <td>0.30</td>\n",
       "      <td>1.80</td>\n",
       "      <td>0.074</td>\n",
       "      <td>17.0</td>\n",
       "      <td>24.0</td>\n",
       "      <td>0.99419</td>\n",
       "      <td>3.24</td>\n",
       "      <td>0.70</td>\n",
       "      <td>11.4</td>\n",
       "      <td>8</td>\n",
       "    </tr>\n",
       "  </tbody>\n",
       "</table>\n",
       "<p>1599 rows × 12 columns</p>\n",
       "</div>"
      ],
      "text/plain": [
       "      fixed acidity  volatile acidity  citric acid  residual sugar  chlorides  \\\n",
       "0              11.6             0.580         0.66            2.20      0.074   \n",
       "1              10.4             0.610         0.49            2.10      0.200   \n",
       "2               7.4             1.185         0.00            4.25      0.097   \n",
       "3              10.4             0.440         0.42            1.50      0.145   \n",
       "4               8.3             1.020         0.02            3.40      0.084   \n",
       "...             ...               ...          ...             ...        ...   \n",
       "1594            8.6             0.420         0.39            1.80      0.068   \n",
       "1595            5.5             0.490         0.03            1.80      0.044   \n",
       "1596            7.2             0.330         0.33            1.70      0.061   \n",
       "1597            7.2             0.380         0.31            2.00      0.056   \n",
       "1598            7.4             0.360         0.30            1.80      0.074   \n",
       "\n",
       "      free sulfur dioxide  total sulfur dioxide  density    pH  sulphates  \\\n",
       "0                    10.0                  47.0  1.00080  3.25       0.57   \n",
       "1                     5.0                  16.0  0.99940  3.16       0.63   \n",
       "2                     5.0                  14.0  0.99660  3.63       0.54   \n",
       "3                    34.0                  48.0  0.99832  3.38       0.86   \n",
       "4                     6.0                  11.0  0.99892  3.48       0.49   \n",
       "...                   ...                   ...      ...   ...        ...   \n",
       "1594                  6.0                  12.0  0.99516  3.35       0.69   \n",
       "1595                 28.0                  87.0  0.99080  3.50       0.82   \n",
       "1596                  3.0                  13.0  0.99600  3.23       1.10   \n",
       "1597                 15.0                  29.0  0.99472  3.23       0.76   \n",
       "1598                 17.0                  24.0  0.99419  3.24       0.70   \n",
       "\n",
       "      alcohol  quality  \n",
       "0         9.0        3  \n",
       "1         8.4        3  \n",
       "2        10.7        3  \n",
       "3         9.9        3  \n",
       "4        11.0        3  \n",
       "...       ...      ...  \n",
       "1594     11.7        8  \n",
       "1595     14.0        8  \n",
       "1596     10.0        8  \n",
       "1597     11.3        8  \n",
       "1598     11.4        8  \n",
       "\n",
       "[1599 rows x 12 columns]"
      ]
     },
     "execution_count": 92,
     "metadata": {},
     "output_type": "execute_result"
    }
   ],
   "source": [
    "wine_dtypes = {\n",
    "    \"fixed acidity\": np.float32,\n",
    "    \"volatile acidity\": np.float32,\n",
    "    \"citric acid\": np.float32,\n",
    "    \"residual sugar\": np.float32,\n",
    "    \"chlorides\": np.float32,\n",
    "    \"free sulfur dioxide\": np.float32,\n",
    "    \"total sulfur dioxide\": np.float32,\n",
    "    \"density\": np.float32,\n",
    "    \"pH\": np.float32,\n",
    "    \"sulphates\": np.float32,\n",
    "    \"alcohol\": np.float32,\n",
    "    \"quality\": np.int8,\n",
    "}\n",
    "\n",
    "\n",
    "wine_data = pd.read_csv(\"../data/Portuguese_VinhoVerde_RedWine_Quality.csv\", dtype=wine_dtypes)\n",
    "\n",
    "wine_data"
   ]
  },
  {
   "cell_type": "code",
   "execution_count": 93,
   "id": "fa59ac7d-6ddd-4746-92a6-00541723eeb5",
   "metadata": {
    "tags": []
   },
   "outputs": [
    {
     "data": {
      "text/plain": [
       "fixed acidity           float32\n",
       "volatile acidity        float32\n",
       "citric acid             float32\n",
       "residual sugar          float32\n",
       "chlorides               float32\n",
       "free sulfur dioxide     float32\n",
       "total sulfur dioxide    float32\n",
       "density                 float32\n",
       "pH                      float32\n",
       "sulphates               float32\n",
       "alcohol                 float32\n",
       "quality                    int8\n",
       "dtype: object"
      ]
     },
     "execution_count": 93,
     "metadata": {},
     "output_type": "execute_result"
    }
   ],
   "source": [
    "wine_data.dtypes"
   ]
  },
  {
   "cell_type": "code",
   "execution_count": 94,
   "id": "316f0426-2156-46d1-a376-d45f145288e8",
   "metadata": {
    "tags": []
   },
   "outputs": [
    {
     "data": {
      "text/plain": [
       "RangeIndex(start=0, stop=1599, step=1)"
      ]
     },
     "execution_count": 94,
     "metadata": {},
     "output_type": "execute_result"
    }
   ],
   "source": [
    "wine_data.index"
   ]
  },
  {
   "cell_type": "code",
   "execution_count": 95,
   "id": "1a58aadd-c191-4b1b-a939-49361e9a9f58",
   "metadata": {
    "tags": []
   },
   "outputs": [
    {
     "data": {
      "text/html": [
       "<div>\n",
       "<style scoped>\n",
       "    .dataframe tbody tr th:only-of-type {\n",
       "        vertical-align: middle;\n",
       "    }\n",
       "\n",
       "    .dataframe tbody tr th {\n",
       "        vertical-align: top;\n",
       "    }\n",
       "\n",
       "    .dataframe thead th {\n",
       "        text-align: right;\n",
       "    }\n",
       "</style>\n",
       "<table border=\"1\" class=\"dataframe\">\n",
       "  <thead>\n",
       "    <tr style=\"text-align: right;\">\n",
       "      <th></th>\n",
       "      <th>A</th>\n",
       "      <th>B</th>\n",
       "    </tr>\n",
       "  </thead>\n",
       "  <tbody>\n",
       "    <tr>\n",
       "      <th>0</th>\n",
       "      <td>0</td>\n",
       "      <td>4</td>\n",
       "    </tr>\n",
       "    <tr>\n",
       "      <th>1</th>\n",
       "      <td>0</td>\n",
       "      <td>4</td>\n",
       "    </tr>\n",
       "  </tbody>\n",
       "</table>\n",
       "</div>"
      ],
      "text/plain": [
       "   A  B\n",
       "0  0  4\n",
       "1  0  4"
      ]
     },
     "metadata": {},
     "output_type": "display_data"
    },
    {
     "data": {
      "text/html": [
       "<div>\n",
       "<style scoped>\n",
       "    .dataframe tbody tr th:only-of-type {\n",
       "        vertical-align: middle;\n",
       "    }\n",
       "\n",
       "    .dataframe tbody tr th {\n",
       "        vertical-align: top;\n",
       "    }\n",
       "\n",
       "    .dataframe thead th {\n",
       "        text-align: right;\n",
       "    }\n",
       "</style>\n",
       "<table border=\"1\" class=\"dataframe\">\n",
       "  <thead>\n",
       "    <tr style=\"text-align: right;\">\n",
       "      <th></th>\n",
       "      <th>C</th>\n",
       "      <th>D</th>\n",
       "    </tr>\n",
       "  </thead>\n",
       "  <tbody>\n",
       "    <tr>\n",
       "      <th>0</th>\n",
       "      <td>1</td>\n",
       "      <td>3</td>\n",
       "    </tr>\n",
       "    <tr>\n",
       "      <th>1</th>\n",
       "      <td>2</td>\n",
       "      <td>3</td>\n",
       "    </tr>\n",
       "    <tr>\n",
       "      <th>2</th>\n",
       "      <td>4</td>\n",
       "      <td>8</td>\n",
       "    </tr>\n",
       "  </tbody>\n",
       "</table>\n",
       "</div>"
      ],
      "text/plain": [
       "   C  D\n",
       "0  1  3\n",
       "1  2  3\n",
       "2  4  8"
      ]
     },
     "metadata": {},
     "output_type": "display_data"
    }
   ],
   "source": [
    "df1 = pd.DataFrame({'A': [0, 0], 'B': [4, 4]})\n",
    "\n",
    "df2 = pd.DataFrame({'C': [1, 2, 4], 'D': [3, 3, 8]})\n",
    "\n",
    "display(df1)\n",
    "display(df2)"
   ]
  },
  {
   "cell_type": "code",
   "execution_count": 96,
   "id": "7919e07c-4cb7-4bb9-840f-06130ee1c800",
   "metadata": {
    "tags": []
   },
   "outputs": [
    {
     "data": {
      "text/html": [
       "<div>\n",
       "<style scoped>\n",
       "    .dataframe tbody tr th:only-of-type {\n",
       "        vertical-align: middle;\n",
       "    }\n",
       "\n",
       "    .dataframe tbody tr th {\n",
       "        vertical-align: top;\n",
       "    }\n",
       "\n",
       "    .dataframe thead th {\n",
       "        text-align: right;\n",
       "    }\n",
       "</style>\n",
       "<table border=\"1\" class=\"dataframe\">\n",
       "  <thead>\n",
       "    <tr style=\"text-align: right;\">\n",
       "      <th></th>\n",
       "      <th>A</th>\n",
       "      <th>B</th>\n",
       "      <th>C</th>\n",
       "      <th>D</th>\n",
       "    </tr>\n",
       "  </thead>\n",
       "  <tbody>\n",
       "    <tr>\n",
       "      <th>0</th>\n",
       "      <td>0</td>\n",
       "      <td>4</td>\n",
       "      <td>1</td>\n",
       "      <td>3</td>\n",
       "    </tr>\n",
       "    <tr>\n",
       "      <th>1</th>\n",
       "      <td>0</td>\n",
       "      <td>4</td>\n",
       "      <td>2</td>\n",
       "      <td>3</td>\n",
       "    </tr>\n",
       "  </tbody>\n",
       "</table>\n",
       "</div>"
      ],
      "text/plain": [
       "   A  B  C  D\n",
       "0  0  4  1  3\n",
       "1  0  4  2  3"
      ]
     },
     "execution_count": 96,
     "metadata": {},
     "output_type": "execute_result"
    }
   ],
   "source": [
    "df3 = df1.join(df2)\n",
    "\n",
    "df3"
   ]
  },
  {
   "cell_type": "code",
   "execution_count": 97,
   "id": "42d81828-247a-409e-9eb1-a9e96699e100",
   "metadata": {
    "tags": []
   },
   "outputs": [
    {
     "data": {
      "text/html": [
       "<div>\n",
       "<style scoped>\n",
       "    .dataframe tbody tr th:only-of-type {\n",
       "        vertical-align: middle;\n",
       "    }\n",
       "\n",
       "    .dataframe tbody tr th {\n",
       "        vertical-align: top;\n",
       "    }\n",
       "\n",
       "    .dataframe thead th {\n",
       "        text-align: right;\n",
       "    }\n",
       "</style>\n",
       "<table border=\"1\" class=\"dataframe\">\n",
       "  <thead>\n",
       "    <tr style=\"text-align: right;\">\n",
       "      <th></th>\n",
       "      <th>A</th>\n",
       "      <th>B</th>\n",
       "      <th>C</th>\n",
       "      <th>D</th>\n",
       "    </tr>\n",
       "  </thead>\n",
       "  <tbody>\n",
       "    <tr>\n",
       "      <th>0</th>\n",
       "      <td>0</td>\n",
       "      <td>4</td>\n",
       "      <td>1</td>\n",
       "      <td>3</td>\n",
       "    </tr>\n",
       "    <tr>\n",
       "      <th>1</th>\n",
       "      <td>0</td>\n",
       "      <td>4</td>\n",
       "      <td>2</td>\n",
       "      <td>3</td>\n",
       "    </tr>\n",
       "  </tbody>\n",
       "</table>\n",
       "</div>"
      ],
      "text/plain": [
       "   A  B  C  D\n",
       "0  0  4  1  3\n",
       "1  0  4  2  3"
      ]
     },
     "execution_count": 97,
     "metadata": {},
     "output_type": "execute_result"
    }
   ],
   "source": [
    "df3 = df1.join(df2, how=\"left\")\n",
    "df3"
   ]
  },
  {
   "cell_type": "code",
   "execution_count": 98,
   "id": "1a45e65e-bbef-4a16-a02c-d4086ce80022",
   "metadata": {
    "tags": []
   },
   "outputs": [
    {
     "data": {
      "text/html": [
       "<div>\n",
       "<style scoped>\n",
       "    .dataframe tbody tr th:only-of-type {\n",
       "        vertical-align: middle;\n",
       "    }\n",
       "\n",
       "    .dataframe tbody tr th {\n",
       "        vertical-align: top;\n",
       "    }\n",
       "\n",
       "    .dataframe thead th {\n",
       "        text-align: right;\n",
       "    }\n",
       "</style>\n",
       "<table border=\"1\" class=\"dataframe\">\n",
       "  <thead>\n",
       "    <tr style=\"text-align: right;\">\n",
       "      <th></th>\n",
       "      <th>A</th>\n",
       "      <th>B</th>\n",
       "      <th>C</th>\n",
       "      <th>D</th>\n",
       "    </tr>\n",
       "  </thead>\n",
       "  <tbody>\n",
       "    <tr>\n",
       "      <th>0</th>\n",
       "      <td>0.0</td>\n",
       "      <td>4.0</td>\n",
       "      <td>1</td>\n",
       "      <td>3</td>\n",
       "    </tr>\n",
       "    <tr>\n",
       "      <th>1</th>\n",
       "      <td>0.0</td>\n",
       "      <td>4.0</td>\n",
       "      <td>2</td>\n",
       "      <td>3</td>\n",
       "    </tr>\n",
       "    <tr>\n",
       "      <th>2</th>\n",
       "      <td>NaN</td>\n",
       "      <td>NaN</td>\n",
       "      <td>4</td>\n",
       "      <td>8</td>\n",
       "    </tr>\n",
       "  </tbody>\n",
       "</table>\n",
       "</div>"
      ],
      "text/plain": [
       "     A    B  C  D\n",
       "0  0.0  4.0  1  3\n",
       "1  0.0  4.0  2  3\n",
       "2  NaN  NaN  4  8"
      ]
     },
     "execution_count": 98,
     "metadata": {},
     "output_type": "execute_result"
    }
   ],
   "source": [
    "df3 = df1.join(df2, how=\"right\")\n",
    "df3"
   ]
  },
  {
   "cell_type": "code",
   "execution_count": 99,
   "id": "bf352f27-f870-406c-93f4-210435897b40",
   "metadata": {
    "tags": []
   },
   "outputs": [
    {
     "data": {
      "text/html": [
       "<div>\n",
       "<style scoped>\n",
       "    .dataframe tbody tr th:only-of-type {\n",
       "        vertical-align: middle;\n",
       "    }\n",
       "\n",
       "    .dataframe tbody tr th {\n",
       "        vertical-align: top;\n",
       "    }\n",
       "\n",
       "    .dataframe thead th {\n",
       "        text-align: right;\n",
       "    }\n",
       "</style>\n",
       "<table border=\"1\" class=\"dataframe\">\n",
       "  <thead>\n",
       "    <tr style=\"text-align: right;\">\n",
       "      <th></th>\n",
       "      <th>A</th>\n",
       "      <th>B</th>\n",
       "      <th>C</th>\n",
       "      <th>D</th>\n",
       "    </tr>\n",
       "  </thead>\n",
       "  <tbody>\n",
       "    <tr>\n",
       "      <th>0</th>\n",
       "      <td>0</td>\n",
       "      <td>4</td>\n",
       "      <td>1</td>\n",
       "      <td>3</td>\n",
       "    </tr>\n",
       "    <tr>\n",
       "      <th>1</th>\n",
       "      <td>0</td>\n",
       "      <td>4</td>\n",
       "      <td>2</td>\n",
       "      <td>3</td>\n",
       "    </tr>\n",
       "  </tbody>\n",
       "</table>\n",
       "</div>"
      ],
      "text/plain": [
       "   A  B  C  D\n",
       "0  0  4  1  3\n",
       "1  0  4  2  3"
      ]
     },
     "execution_count": 99,
     "metadata": {},
     "output_type": "execute_result"
    }
   ],
   "source": [
    "df3 = df1.join(df2, how=\"inner\")\n",
    "df3"
   ]
  },
  {
   "cell_type": "code",
   "execution_count": 100,
   "id": "542c191f-3601-4570-8c21-8af01378b067",
   "metadata": {
    "tags": []
   },
   "outputs": [
    {
     "data": {
      "text/html": [
       "<div>\n",
       "<style scoped>\n",
       "    .dataframe tbody tr th:only-of-type {\n",
       "        vertical-align: middle;\n",
       "    }\n",
       "\n",
       "    .dataframe tbody tr th {\n",
       "        vertical-align: top;\n",
       "    }\n",
       "\n",
       "    .dataframe thead th {\n",
       "        text-align: right;\n",
       "    }\n",
       "</style>\n",
       "<table border=\"1\" class=\"dataframe\">\n",
       "  <thead>\n",
       "    <tr style=\"text-align: right;\">\n",
       "      <th></th>\n",
       "      <th>A</th>\n",
       "      <th>B</th>\n",
       "      <th>C</th>\n",
       "      <th>D</th>\n",
       "    </tr>\n",
       "  </thead>\n",
       "  <tbody>\n",
       "    <tr>\n",
       "      <th>0</th>\n",
       "      <td>0.0</td>\n",
       "      <td>4.0</td>\n",
       "      <td>1</td>\n",
       "      <td>3</td>\n",
       "    </tr>\n",
       "    <tr>\n",
       "      <th>1</th>\n",
       "      <td>0.0</td>\n",
       "      <td>4.0</td>\n",
       "      <td>2</td>\n",
       "      <td>3</td>\n",
       "    </tr>\n",
       "    <tr>\n",
       "      <th>2</th>\n",
       "      <td>NaN</td>\n",
       "      <td>NaN</td>\n",
       "      <td>4</td>\n",
       "      <td>8</td>\n",
       "    </tr>\n",
       "  </tbody>\n",
       "</table>\n",
       "</div>"
      ],
      "text/plain": [
       "     A    B  C  D\n",
       "0  0.0  4.0  1  3\n",
       "1  0.0  4.0  2  3\n",
       "2  NaN  NaN  4  8"
      ]
     },
     "execution_count": 100,
     "metadata": {},
     "output_type": "execute_result"
    }
   ],
   "source": [
    "df3 = df1.join(df2, how=\"outer\")\n",
    "df3"
   ]
  },
  {
   "cell_type": "code",
   "execution_count": 101,
   "id": "811a60ef-8ba9-4e04-b77d-c7f29ce589eb",
   "metadata": {
    "tags": []
   },
   "outputs": [
    {
     "data": {
      "text/html": [
       "<div>\n",
       "<style scoped>\n",
       "    .dataframe tbody tr th:only-of-type {\n",
       "        vertical-align: middle;\n",
       "    }\n",
       "\n",
       "    .dataframe tbody tr th {\n",
       "        vertical-align: top;\n",
       "    }\n",
       "\n",
       "    .dataframe thead th {\n",
       "        text-align: right;\n",
       "    }\n",
       "</style>\n",
       "<table border=\"1\" class=\"dataframe\">\n",
       "  <thead>\n",
       "    <tr style=\"text-align: right;\">\n",
       "      <th></th>\n",
       "      <th>A</th>\n",
       "      <th>B</th>\n",
       "    </tr>\n",
       "  </thead>\n",
       "  <tbody>\n",
       "    <tr>\n",
       "      <th>0</th>\n",
       "      <td>A0</td>\n",
       "      <td>B4</td>\n",
       "    </tr>\n",
       "    <tr>\n",
       "      <th>1</th>\n",
       "      <td>A0</td>\n",
       "      <td>B4</td>\n",
       "    </tr>\n",
       "  </tbody>\n",
       "</table>\n",
       "</div>"
      ],
      "text/plain": [
       "    A   B\n",
       "0  A0  B4\n",
       "1  A0  B4"
      ]
     },
     "metadata": {},
     "output_type": "display_data"
    },
    {
     "data": {
      "text/html": [
       "<div>\n",
       "<style scoped>\n",
       "    .dataframe tbody tr th:only-of-type {\n",
       "        vertical-align: middle;\n",
       "    }\n",
       "\n",
       "    .dataframe tbody tr th {\n",
       "        vertical-align: top;\n",
       "    }\n",
       "\n",
       "    .dataframe thead th {\n",
       "        text-align: right;\n",
       "    }\n",
       "</style>\n",
       "<table border=\"1\" class=\"dataframe\">\n",
       "  <thead>\n",
       "    <tr style=\"text-align: right;\">\n",
       "      <th></th>\n",
       "      <th>C</th>\n",
       "      <th>D</th>\n",
       "    </tr>\n",
       "  </thead>\n",
       "  <tbody>\n",
       "    <tr>\n",
       "      <th>0</th>\n",
       "      <td>C1</td>\n",
       "      <td>D3</td>\n",
       "    </tr>\n",
       "    <tr>\n",
       "      <th>1</th>\n",
       "      <td>C2</td>\n",
       "      <td>D3</td>\n",
       "    </tr>\n",
       "    <tr>\n",
       "      <th>2</th>\n",
       "      <td>C4</td>\n",
       "      <td>D8</td>\n",
       "    </tr>\n",
       "  </tbody>\n",
       "</table>\n",
       "</div>"
      ],
      "text/plain": [
       "    C   D\n",
       "0  C1  D3\n",
       "1  C2  D3\n",
       "2  C4  D8"
      ]
     },
     "metadata": {},
     "output_type": "display_data"
    }
   ],
   "source": [
    "df1 = pd.DataFrame({'A': ['A0', 'A0'], 'B': ['B4', 'B4']})\n",
    "\n",
    "df2 = pd.DataFrame({'C': ['C1', 'C2', 'C4'], 'D': ['D3', 'D3', 'D8']})\n",
    "\n",
    "display(df1)\n",
    "display(df2)"
   ]
  },
  {
   "cell_type": "code",
   "execution_count": 102,
   "id": "638cdcee-47a6-4ef2-bdf1-bb3533ab2c9f",
   "metadata": {
    "tags": []
   },
   "outputs": [
    {
     "data": {
      "text/html": [
       "<div>\n",
       "<style scoped>\n",
       "    .dataframe tbody tr th:only-of-type {\n",
       "        vertical-align: middle;\n",
       "    }\n",
       "\n",
       "    .dataframe tbody tr th {\n",
       "        vertical-align: top;\n",
       "    }\n",
       "\n",
       "    .dataframe thead th {\n",
       "        text-align: right;\n",
       "    }\n",
       "</style>\n",
       "<table border=\"1\" class=\"dataframe\">\n",
       "  <thead>\n",
       "    <tr style=\"text-align: right;\">\n",
       "      <th></th>\n",
       "      <th>A</th>\n",
       "      <th>B</th>\n",
       "      <th>C</th>\n",
       "      <th>D</th>\n",
       "    </tr>\n",
       "  </thead>\n",
       "  <tbody>\n",
       "    <tr>\n",
       "      <th>0</th>\n",
       "      <td>A0</td>\n",
       "      <td>B4</td>\n",
       "      <td>C1</td>\n",
       "      <td>D3</td>\n",
       "    </tr>\n",
       "    <tr>\n",
       "      <th>1</th>\n",
       "      <td>A0</td>\n",
       "      <td>B4</td>\n",
       "      <td>C2</td>\n",
       "      <td>D3</td>\n",
       "    </tr>\n",
       "    <tr>\n",
       "      <th>2</th>\n",
       "      <td>NaN</td>\n",
       "      <td>NaN</td>\n",
       "      <td>C4</td>\n",
       "      <td>D8</td>\n",
       "    </tr>\n",
       "  </tbody>\n",
       "</table>\n",
       "</div>"
      ],
      "text/plain": [
       "     A    B   C   D\n",
       "0   A0   B4  C1  D3\n",
       "1   A0   B4  C2  D3\n",
       "2  NaN  NaN  C4  D8"
      ]
     },
     "metadata": {},
     "output_type": "display_data"
    }
   ],
   "source": [
    "df3 = df1.join(df2, how=\"right\")\n",
    "\n",
    "display(df3)"
   ]
  },
  {
   "cell_type": "code",
   "execution_count": 103,
   "id": "789366b5-05ec-4a1f-aedf-7d96d24721c1",
   "metadata": {
    "tags": []
   },
   "outputs": [
    {
     "data": {
      "text/html": [
       "<div>\n",
       "<style scoped>\n",
       "    .dataframe tbody tr th:only-of-type {\n",
       "        vertical-align: middle;\n",
       "    }\n",
       "\n",
       "    .dataframe tbody tr th {\n",
       "        vertical-align: top;\n",
       "    }\n",
       "\n",
       "    .dataframe thead th {\n",
       "        text-align: right;\n",
       "    }\n",
       "</style>\n",
       "<table border=\"1\" class=\"dataframe\">\n",
       "  <thead>\n",
       "    <tr style=\"text-align: right;\">\n",
       "      <th></th>\n",
       "      <th>A</th>\n",
       "      <th>B</th>\n",
       "    </tr>\n",
       "  </thead>\n",
       "  <tbody>\n",
       "    <tr>\n",
       "      <th>0</th>\n",
       "      <td>0</td>\n",
       "      <td>4</td>\n",
       "    </tr>\n",
       "    <tr>\n",
       "      <th>1</th>\n",
       "      <td>0</td>\n",
       "      <td>4</td>\n",
       "    </tr>\n",
       "  </tbody>\n",
       "</table>\n",
       "</div>"
      ],
      "text/plain": [
       "   A  B\n",
       "0  0  4\n",
       "1  0  4"
      ]
     },
     "metadata": {},
     "output_type": "display_data"
    },
    {
     "data": {
      "text/html": [
       "<div>\n",
       "<style scoped>\n",
       "    .dataframe tbody tr th:only-of-type {\n",
       "        vertical-align: middle;\n",
       "    }\n",
       "\n",
       "    .dataframe tbody tr th {\n",
       "        vertical-align: top;\n",
       "    }\n",
       "\n",
       "    .dataframe thead th {\n",
       "        text-align: right;\n",
       "    }\n",
       "</style>\n",
       "<table border=\"1\" class=\"dataframe\">\n",
       "  <thead>\n",
       "    <tr style=\"text-align: right;\">\n",
       "      <th></th>\n",
       "      <th>A</th>\n",
       "      <th>B</th>\n",
       "    </tr>\n",
       "  </thead>\n",
       "  <tbody>\n",
       "    <tr>\n",
       "      <th>0</th>\n",
       "      <td>1</td>\n",
       "      <td>3</td>\n",
       "    </tr>\n",
       "    <tr>\n",
       "      <th>1</th>\n",
       "      <td>1</td>\n",
       "      <td>3</td>\n",
       "    </tr>\n",
       "  </tbody>\n",
       "</table>\n",
       "</div>"
      ],
      "text/plain": [
       "   A  B\n",
       "0  1  3\n",
       "1  1  3"
      ]
     },
     "metadata": {},
     "output_type": "display_data"
    }
   ],
   "source": [
    "df1 = pd.DataFrame({'A': [0, 0], 'B': [4, 4]})\n",
    "df2 = pd.DataFrame({'A': [1, 1], 'B': [3, 3]})\n",
    "\n",
    "display(df1)\n",
    "display(df2)"
   ]
  },
  {
   "cell_type": "code",
   "execution_count": 105,
   "id": "da7b0edb-ef76-42f4-a2af-9f19fb85322a",
   "metadata": {
    "tags": []
   },
   "outputs": [
    {
     "data": {
      "text/html": [
       "<div>\n",
       "<style scoped>\n",
       "    .dataframe tbody tr th:only-of-type {\n",
       "        vertical-align: middle;\n",
       "    }\n",
       "\n",
       "    .dataframe tbody tr th {\n",
       "        vertical-align: top;\n",
       "    }\n",
       "\n",
       "    .dataframe thead th {\n",
       "        text-align: right;\n",
       "    }\n",
       "</style>\n",
       "<table border=\"1\" class=\"dataframe\">\n",
       "  <thead>\n",
       "    <tr style=\"text-align: right;\">\n",
       "      <th></th>\n",
       "      <th>A</th>\n",
       "      <th>B</th>\n",
       "    </tr>\n",
       "  </thead>\n",
       "  <tbody>\n",
       "    <tr>\n",
       "      <th>0</th>\n",
       "      <td>0</td>\n",
       "      <td>4</td>\n",
       "    </tr>\n",
       "    <tr>\n",
       "      <th>1</th>\n",
       "      <td>0</td>\n",
       "      <td>4</td>\n",
       "    </tr>\n",
       "    <tr>\n",
       "      <th>2</th>\n",
       "      <td>1</td>\n",
       "      <td>3</td>\n",
       "    </tr>\n",
       "    <tr>\n",
       "      <th>3</th>\n",
       "      <td>1</td>\n",
       "      <td>3</td>\n",
       "    </tr>\n",
       "  </tbody>\n",
       "</table>\n",
       "</div>"
      ],
      "text/plain": [
       "   A  B\n",
       "0  0  4\n",
       "1  0  4\n",
       "2  1  3\n",
       "3  1  3"
      ]
     },
     "execution_count": 105,
     "metadata": {},
     "output_type": "execute_result"
    }
   ],
   "source": [
    "df3 = pd.concat([ df1, df2 ])\n",
    "df3.reset_index(drop=True, inplace=True)\n",
    "\n",
    "df3"
   ]
  },
  {
   "cell_type": "code",
   "execution_count": 108,
   "id": "1f3ab9a6-df43-4d66-80b6-00685c5e5747",
   "metadata": {
    "tags": []
   },
   "outputs": [
    {
     "data": {
      "text/html": [
       "<div>\n",
       "<style scoped>\n",
       "    .dataframe tbody tr th:only-of-type {\n",
       "        vertical-align: middle;\n",
       "    }\n",
       "\n",
       "    .dataframe tbody tr th {\n",
       "        vertical-align: top;\n",
       "    }\n",
       "\n",
       "    .dataframe thead th {\n",
       "        text-align: right;\n",
       "    }\n",
       "</style>\n",
       "<table border=\"1\" class=\"dataframe\">\n",
       "  <thead>\n",
       "    <tr style=\"text-align: right;\">\n",
       "      <th></th>\n",
       "      <th>A</th>\n",
       "      <th>B</th>\n",
       "    </tr>\n",
       "  </thead>\n",
       "  <tbody>\n",
       "    <tr>\n",
       "      <th>0</th>\n",
       "      <td>1</td>\n",
       "      <td>2</td>\n",
       "    </tr>\n",
       "    <tr>\n",
       "      <th>1</th>\n",
       "      <td>4</td>\n",
       "      <td>5</td>\n",
       "    </tr>\n",
       "  </tbody>\n",
       "</table>\n",
       "</div>"
      ],
      "text/plain": [
       "   A  B\n",
       "0  1  2\n",
       "1  4  5"
      ]
     },
     "execution_count": 108,
     "metadata": {},
     "output_type": "execute_result"
    }
   ],
   "source": [
    "df5 = pd.DataFrame([ [1, 2], [4, 5] ], columns=[\"A\", \"B\"])\n",
    "df5"
   ]
  },
  {
   "cell_type": "code",
   "execution_count": 110,
   "id": "19658a2d-5ea1-44db-8535-1d055be62586",
   "metadata": {
    "tags": []
   },
   "outputs": [
    {
     "data": {
      "text/html": [
       "<div>\n",
       "<style scoped>\n",
       "    .dataframe tbody tr th:only-of-type {\n",
       "        vertical-align: middle;\n",
       "    }\n",
       "\n",
       "    .dataframe tbody tr th {\n",
       "        vertical-align: top;\n",
       "    }\n",
       "\n",
       "    .dataframe thead th {\n",
       "        text-align: right;\n",
       "    }\n",
       "</style>\n",
       "<table border=\"1\" class=\"dataframe\">\n",
       "  <thead>\n",
       "    <tr style=\"text-align: right;\">\n",
       "      <th></th>\n",
       "      <th>0</th>\n",
       "      <th>1</th>\n",
       "    </tr>\n",
       "  </thead>\n",
       "  <tbody>\n",
       "    <tr>\n",
       "      <th>A</th>\n",
       "      <td>1</td>\n",
       "      <td>4</td>\n",
       "    </tr>\n",
       "    <tr>\n",
       "      <th>B</th>\n",
       "      <td>2</td>\n",
       "      <td>5</td>\n",
       "    </tr>\n",
       "  </tbody>\n",
       "</table>\n",
       "</div>"
      ],
      "text/plain": [
       "   0  1\n",
       "A  1  4\n",
       "B  2  5"
      ]
     },
     "execution_count": 110,
     "metadata": {},
     "output_type": "execute_result"
    }
   ],
   "source": [
    "df5.T"
   ]
  },
  {
   "cell_type": "code",
   "execution_count": null,
   "id": "521c2db2-0b62-4754-9ebc-3988652cc35b",
   "metadata": {},
   "outputs": [],
   "source": []
  }
 ],
 "metadata": {
  "kernelspec": {
   "display_name": "jupyter_03062023",
   "language": "python",
   "name": "jupyter_03062023"
  },
  "language_info": {
   "codemirror_mode": {
    "name": "ipython",
    "version": 3
   },
   "file_extension": ".py",
   "mimetype": "text/x-python",
   "name": "python",
   "nbconvert_exporter": "python",
   "pygments_lexer": "ipython3",
   "version": "3.10.0"
  }
 },
 "nbformat": 4,
 "nbformat_minor": 5
}
